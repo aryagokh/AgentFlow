{
 "cells": [
  {
   "cell_type": "code",
   "execution_count": 1,
   "metadata": {},
   "outputs": [
    {
     "name": "stdout",
     "output_type": "stream",
     "text": [
      "Note: you may need to restart the kernel to use updated packages.\n"
     ]
    }
   ],
   "source": [
    "%pip install -q langchain-tavily langchain langchain-community langchain-google-genai"
   ]
  },
  {
   "cell_type": "code",
   "execution_count": 2,
   "metadata": {},
   "outputs": [
    {
     "data": {
      "text/plain": [
       "True"
      ]
     },
     "execution_count": 2,
     "metadata": {},
     "output_type": "execute_result"
    }
   ],
   "source": [
    "import google.genai as genai\n",
    "from langchain_tavily import TavilySearch\n",
    "from langchain_community.tools.tavily_search import TavilySearchResults\n",
    "from dotenv import load_dotenv\n",
    "\n",
    "from langchain.agents import initialize_agent, AgentExecutor, AgentType\n",
    "from langchain.tools import Tool\n",
    "from langchain_google_genai import ChatGoogleGenerativeAI\n",
    "import os\n",
    "load_dotenv()"
   ]
  },
  {
   "cell_type": "code",
   "execution_count": 3,
   "metadata": {},
   "outputs": [],
   "source": [
    "tavily_search = TavilySearchResults(max_results=5)"
   ]
  },
  {
   "cell_type": "code",
   "execution_count": 4,
   "metadata": {},
   "outputs": [
    {
     "data": {
      "text/plain": [
       "[{'title': 'Attention Is All You Need - Wikipedia',\n",
       "  'url': 'https://en.wikipedia.org/wiki/Attention_Is_All_You_Need',\n",
       "  'content': '\"Attention Is All You Need\"[1] is a 2017 landmark[2][3] research paper in machine learning authored by eight scientists working at Google. The paper introduced a new deep learning architecture known as the transformer, based on the attention mechanism proposed in 2014 by Bahdanau et al.[4] It is considered a foundational[5] paper in modern artificial intelligence, as the transformer approach has become the main architecture of large language models like those based on GPT.[6][7] At the time, [...] ^ a b c d e f Vaswani, Ashish; Shazeer, Noam; Parmar, Niki; Uszkoreit, Jakob; Jones, Llion; Gomez, Aidan N; Kaiser, Łukasz; Polosukhin, Illia (December 2017). \"Attention is All you Need\". In I. Guyon and U. Von Luxburg and S. Bengio and H. Wallach and R. Fergus and S. Vishwanathan and R. Garnett (ed.). 31st Conference on Neural Information Processing Systems (NIPS). Advances in Neural Information Processing Systems. Vol.\\xa030. Curran Associates, Inc. arXiv:1706.03762. [...] In 2017, the original (100M-sized) encoder-decoder transformer model was proposed in the \"Attention is all you need\" paper. At the time, the focus of the research was on improving seq2seq for machine translation, by removing its recurrence to process all tokens in parallel, but preserving its dot-product attention mechanism to keep its text processing performance.[1] This led to the introduction of a multi-head attention model that was easier to parallelize due to the use of independent heads',\n",
       "  'score': 0.90227455},\n",
       " {'title': 'The background needed to understand \"Attention is All You ... - Reddit',\n",
       "  'url': 'https://www.reddit.com/r/learnmachinelearning/comments/17ywtkd/the_background_needed_to_understand_attention_is/',\n",
       "  'content': 'In my opinion the Attention is all you need paper is one of the most important papers for understanding how LLM are built and work.',\n",
       "  'score': 0.76826453},\n",
       " {'title': '[PDF] Attention is All you Need - NIPS papers',\n",
       "  'url': 'https://papers.neurips.cc/paper/7181-attention-is-all-you-need.pdf',\n",
       "  'content': 'Self-attention, sometimes called intra-attention is an attention mechanism relating different positions of a single sequence in order to compute a representation of the sequence. Self-attention has been used successfully in a variety of tasks including reading comprehension, abstractive summarization, textual entailment and learning task-independent sentence representations [4, 22, 23, 19]. [...] 3.2 Attention An attention function can be described as mapping a query and a set of key-value pairs to an output, where the query, keys, values, and output are all vectors. The output is computed as a weighted sum of the values, where the weight assigned to each value is computed by a compatibility function of the query with the corresponding key. [...] [31] and byte-pair [25] representations. To improve computational performance for tasks involving very long sequences, self-attention could be restricted to considering only a neighborhood of size r in 6 the input sequence centered around the respective output position. This would increase the maximum path length to O(n/r). We plan to investigate this approach further in future work.',\n",
       "  'score': 0.75659186},\n",
       " {'title': 'Attention Is All You Need - arXiv',\n",
       "  'url': 'https://arxiv.org/html/1706.03762v7',\n",
       "  'content': 'Self-attention, sometimes called intra-attention is an attention mechanism relating different positions of a single sequence in order to compute a representation of the sequence. Self-attention has been used successfully in a variety of tasks including reading comprehension, abstractive summarization, textual entailment and learning task-independent sentence representations [4, 27, 28, 22]. [...] 1Introduction\\n2Background\\n3Model Architecture\\n4Why Self-Attention\\n5Training\\n6Results\\n7Conclusion\\nProvided proper attribution is provided, Google hereby grants permission to reproduce the tables and figures in this paper solely for use in journalistic or scholarly works.\\nAttention Is All You Need\\n\\\\ANDAshish Vaswani\\nGoogle Brain avaswani@google.com\\n&Noam Shazeer1\\nGoogle Brain noam@google.com\\n&Niki Parmar1\\nGoogle Research nikip@google.com\\n&Jakob Uszkoreit1\\nGoogle Research usz@google.com [...] -dimensional output values. These are concatenated and once again projected, resulting in the final values, as depicted in Figure\\xa02.\\nMulti-head attention allows the model to jointly attend to information from different representation subspaces at different positions. With a single attention head, averaging inhibits this.\\nMultiHead\\n\\u2062\\n(\\n𝑄\\n,\\n𝐾\\n,\\n𝑉\\n)\\n=\\nConcat\\n\\u2062\\n(\\nhead\\n1\\n,\\n…\\n,\\nhead\\nh\\n)\\n\\u2062\\n𝑊\\n𝑂\\nwhere\\n\\u2062\\nhead\\ni\\n=\\nAttention\\n\\u2062\\n(\\n𝑄\\n\\u2062\\n𝑊\\n𝑖\\n𝑄\\n,\\n𝐾\\n\\u2062\\n𝑊\\n𝑖\\n𝐾\\n,\\n𝑉\\n\\u2062\\n𝑊\\n𝑖\\n𝑉\\n)',\n",
       "  'score': 0.75377536},\n",
       " {'title': '[1706.03762] Attention Is All You Need - arXiv',\n",
       "  'url': 'https://arxiv.org/abs/1706.03762',\n",
       "  'content': 'Help | Advanced Search\\nAll fields\\nTitle\\nAuthor\\nAbstract\\nComments\\nJournal reference\\nACM classification\\nMSC classification\\nReport number\\narXiv identifier\\nDOI\\nORCID\\narXiv author ID\\nHelp pages\\nFull text\\nSearch\\nComputer Science > Computation and Language\\n[Submitted on 12 Jun 2017 (v1), last revised 2 Aug 2023 (this version, v7)]\\nAttention Is All You Need\\nAshish Vaswani, Noam Shazeer, Niki Parmar, Jakob Uszkoreit, Llion Jones, Aidan N. Gomez, Lukasz Kaiser, Illia Polosukhin [...] Comments:   15 pages, 5 figures\\nSubjects:   Computation and Language (cs.CL); Machine Learning (cs.LG)\\nCite as:    arXiv:1706.03762 [cs.CL]\\n\\xa0   (or arXiv:1706.03762v7 [cs.CL] for this version)\\n\\xa0 \\nhttps://doi.org/10.48550/arXiv.1706.03762\\nFocus to learn more\\nSubmission history\\nFrom: Llion Jones [view email]\\n[v1] Mon, 12 Jun 2017 17:57:34 UTC (1,102 KB)\\n[v2] Mon, 19 Jun 2017 16:49:45 UTC (1,125 KB)\\n[v3] Tue, 20 Jun 2017 05:20:02 UTC (1,125 KB)\\n[v4] Fri, 30 Jun 2017 17:29:30 UTC (1,124 KB)',\n",
       "  'score': 0.7500592}]"
      ]
     },
     "execution_count": 4,
     "metadata": {},
     "output_type": "execute_result"
    }
   ],
   "source": [
    "tavily_search.invoke(\n",
    "    input='Attention is all you need'\n",
    ")"
   ]
  },
  {
   "cell_type": "code",
   "execution_count": 5,
   "metadata": {},
   "outputs": [],
   "source": [
    "tools = [\n",
    "    Tool(name=\"TavilySearch\", func=tavily_search.run, description=\"SEO Optimizer\")\n",
    "]"
   ]
  },
  {
   "cell_type": "code",
   "execution_count": 6,
   "metadata": {},
   "outputs": [],
   "source": [
    "llm = ChatGoogleGenerativeAI(\n",
    "    model='gemini-2.0-flash',\n",
    "    max_retries=3,\n",
    "    api_key=os.getenv('GEMINI_API_KEY')\n",
    ")"
   ]
  },
  {
   "cell_type": "code",
   "execution_count": 7,
   "metadata": {},
   "outputs": [],
   "source": [
    "def create_tavily_agent_prompt(content, additional_info=True):\n",
    "    # search_prompt = f'''\n",
    "    # You are an expert SEO Optimized post content writer and editor.\n",
    "    # You have access to:\n",
    "    # TavilySearch - for finding most relevant material on how to write SEO optimized posts.\n",
    "    # The content of the post is:\n",
    "    # {content}\n",
    "\n",
    "    # Please make it SEO optimized.\n",
    "    # If required, you can change wordings, but not the whole meaning.\n",
    "    # Lastly, strictly only return the SEO Optimized post.\n",
    "    # Please do not return any starting. No filler words and sentences. \n",
    "    # Just pure SEO Optimized Content. \n",
    "    # Return json of:\n",
    "    # 'seo_optimized_post' : post\n",
    "    # '''\n",
    "    search_prompt = f'''\n",
    "    You are an expert SEO-optimized post writer. Your task is to **rewrite** the given content in an SEO-friendly way.\n",
    "\n",
    "    **Instructions:**\n",
    "    - Improve readability, keyword placement, and engagement.\n",
    "    - **DO NOT** return explanations, steps, or methods.\n",
    "    - **Return ONLY** the optimized content in JSON format:\n",
    "      ```json\n",
    "      {{\n",
    "          \"seo_optimized_post\": \"Your fully optimized post here\"\n",
    "      }}\n",
    "      ```\n",
    "\n",
    "    **Original Post:**\n",
    "    {content}\n",
    "    '''\n",
    "\n",
    "    if additional_info is not None:\n",
    "        search_prompt = search_prompt + \"\\n\"  f\"Here are some additional details to consider : {additional_info}\"\n",
    "    \n",
    "    return search_prompt"
   ]
  },
  {
   "cell_type": "code",
   "execution_count": 8,
   "metadata": {},
   "outputs": [],
   "source": [
    "raw_content = f'''\n",
    "**AI & ML: Level Up Your Mechanical Engineering Career! 🚀**\n",
    "\n",
    "Hey #MechanicalEngineers! 👋 Ready to future-proof your skills?\n",
    "\n",
    "AI and Machine Learning aren't just buzzwords anymore; they're revolutionizing manufacturing, design, and maintenance. Think:\n",
    "\n",
    "*   **Predictive Maintenance:** Imagine algorithms that foresee equipment failures *before* they happen, saving time and $$$ 💰.\n",
    "*   **Generative Design:** AI creating optimal designs we haven't even thought of yet – lighter, stronger, better! 🤯\n",
    "*   **Automated Quality Control:** Catching defects with superhuman accuracy, ensuring top-notch products. ✅\n",
    "\n",
    "**Why should YOU care?**\n",
    "\n",
    "Knowing AI/ML will make you a *highly* sought-after engineer. It's about:\n",
    "\n",
    "*   **Boosting Efficiency:** Streamlining processes, reducing waste. ♻️\n",
    "*   **Driving Innovation:** Creating cutting-edge solutions. ✨\n",
    "*   **Increasing Earning Potential:** Skills that are in demand pay BIG. 🤑\n",
    "\n",
    "**Get started now:**\n",
    "\n",
    "*   Explore online courses on platforms like Coursera or Udacity.\n",
    "*   Start small – look for AI/ML applications within your current projects.\n",
    "*   Join online communities and connect with experts!\n",
    "\n",
    "#AIinManufacturing #MachineLearning #MechanicalEngineering #FutureofWork #EngineeringJobs #TechSkills #Innovation #CareerDevelopment\n",
    "'''"
   ]
  },
  {
   "cell_type": "code",
   "execution_count": 12,
   "metadata": {},
   "outputs": [],
   "source": [
    "agent = initialize_agent(\n",
    "    tools=tools,\n",
    "    llm=llm,\n",
    "    agent=AgentType.ZERO_SHOT_REACT_DESCRIPTION,  \n",
    "    verbose=True,\n",
    "    # agent_kwargs={\"prompt\": create_tavily_agent_prompt(raw_content)},\n",
    "    handle_parsing_errors=True\n",
    ")"
   ]
  },
  {
   "cell_type": "code",
   "execution_count": 13,
   "metadata": {},
   "outputs": [],
   "source": [
    "def seo_optimizer(platform, post):\n",
    "\n",
    "    seo_prompt = f'''\n",
    "    Use Tavily to search for the best SEO optimization techniques specific to [domain]. Analyze the top strategies, keyword usage, and content patterns from the search results. Based on these insights, identify key SEO elements (keywords, structure, engagement tactics) that improve {platform} visibility.\n",
    "\n",
    "    Now, take my previous {platform} post:\n",
    "    {post}\n",
    "\n",
    "    Rewrite and transform it into an SEO-optimized {platform} post by applying the learned strategies. Ensure it remains engaging, professional, and aligned with {platform}'s algorithm best practices.\n",
    "\n",
    "    Finally, only return the post and not any extra words.\n",
    "    '''\n",
    "\n",
    "    refined_response = agent.run(seo_prompt)\n",
    "    return refined_response"
   ]
  },
  {
   "cell_type": "code",
   "execution_count": 14,
   "metadata": {},
   "outputs": [
    {
     "name": "stdout",
     "output_type": "stream",
     "text": [
      "\n",
      "\n",
      "\u001b[1m> Entering new AgentExecutor chain...\u001b[0m\n",
      "\u001b[32;1m\u001b[1;3mI need to use Tavily to research SEO optimization techniques for LinkedIn, focusing on keywords, structure, and engagement. Then, I'll rewrite the provided LinkedIn post, incorporating these techniques to enhance its visibility and engagement.\n",
      "Action: TavilySearch\n",
      "Action Input: \"SEO optimization techniques for LinkedIn posts keywords structure engagement\"\u001b[0m\n",
      "Observation: \u001b[36;1m\u001b[1;3m[{'title': 'Peak Content Optimization: 7 Techniques for LinkedIn - 618Media', 'url': 'https://618media.com/en/blog/peak-content-optimization-for-linkedin/', 'content': 'Considering my own experience, making SEO methods a priority has made a huge difference in my LinkedIn content optimization.\\n\\nHave you considered using SEO techniques as part of your LinkedIn strategy?\\n\\nSEO techniques such as keyword research, optimized profiles, and structured posts improve discoverability and engagement on LinkedIn.\\n\\nMeasuring and Tracking LinkedIn Content Performance [...] A well-optimized profile is crucial for ranking in applicable searches:\\n\\nThese steps constitute a solid profile that ranks higher in LinkedIn’s search results.\\n\\nEnhancing Post Visibility with SEO Techniques\\n\\nSEO optimization of your LinkedIn posts can significantly increase their reach:\\n\\nApplying these methods can expand your content’s audience and prompt further engagement. [...] By optimizing your LinkedIn content, you can:\\n\\nGlancing back on my own practice, I’ve noticed that after optimizing my posts on LinkedIn, not only were engagement rates enhanced, but more invites to possible collaborations followed.\\n\\nHas that been the case for you as well on LinkedIn?\\n\\nContent optimization on LinkedIn ensures that your posts reach the right audience and align with the platform’s algorithm for better visibility.\\n\\nCreating Engaging and Shareable LinkedIn Posts', 'score': 0.8872928}, {'title': 'How to Create SEO-Optimized Posts on LinkedIn - TRIKL', 'url': 'https://trikl.ai/how-to-create-seo-optimized-posts-on-linkedin/', 'content': '2. Utilizing Headings and Subheadings\\n\\nProper use of headings and subheadings not only organizes your content but also helps search engines understand its structure and relevance.\\n\\nIncorporate your primary and related keywords naturally into these headings and subheadings whenever possible.\\n\\nThis practice enhances the SEO optimization of your LinkedIn posts while making your content easy to skim and navigate for readers.\\n\\n3. Writing Engaging and Result-Driven Content [...] I hope now you’ve a better idea on how to create SEO-Optimized posts on LinkedIn. Remember to research keywords, utilise headings and subheadings, write informative content, incorporate internal and external links, optimise meta descriptions and image alt text, and actively engage with your audience. With consistent effort and effective SEO practices, you’ll enhance your visibility on LinkedIn, expand your network, and achieve your professional goals. [...] By understanding and implementing SEO best practices on your LinkedIn profile and posts, you can improve your visibility, gain more followers, and boost engagement with your target audience.\\n\\nMoreover, it makes your posts stand out and gives you the ability to repurpose your content for blogs or otherwise.\\n\\nTips for Creating SEO-Optimized Posts on LinkedIn:\\n\\n1. Finding Keywords that bring traffic', 'score': 0.8665964}, {'title': 'LinkedIn SEO: 7 Tips to Optimize Your Company Page | Sprout Social', 'url': 'https://sproutsocial.com/insights/linkedin-seo/', 'content': 'To increase your LinkedIn SEO, optimize your company page and content. You can do so by posting on a regular cadence, using relevant keywords, encouraging employee advocacy, engaging with your network, building backlinks, using hashtags and participating in relevant groups and discussions. [...] To increase your LinkedIn SEO, optimize your company page and content. You can do so by posting on a regular cadence, using relevant keywords, encouraging employee advocacy, engaging with your network, building backlinks, using hashtags and participating in relevant groups and discussions. [...] The best LinkedIn SEO strategies are data-driven. Here are some ways you can use LinkedIn analytics to improve visibility and engagement on the platform:\\n\\n4. Share a variety of content formats\\n\\nLinkedIn offers several different content types for a reason. Weave carousels, polls, long-form posts, short posts, articles, images, videos, live events and PDFs into your content calendar.\\n\\nAt Sprout, we switch things up regularly and even repost user-generated content on our LinkedIn page.', 'score': 0.7942736}, {'title': 'LinkedIn SEO Tips: Optimize Your Profile And Content - Backlinko', 'url': 'https://backlinko.com/linkedin-seo', 'content': 'As we mentioned at the beginning of this article, LinkedIn prioritizes displaying quality, relevant content in users’ feeds and search results.\\n\\nSo how do you create high-quality content for LinkedIn that’s also optimized for SEO?\\n\\nCrafting Posts\\n\\nPosts are great for boosting visibility and driving engagement on LinkedIn by providing tips and industry insights.\\n\\nThere are a variety of post formats, all with different benefits: [...] Now, it will take you to a dashboard filled with content ideas:\\n\\nYou can prioritize these topics by difficulty or search volume. Or a metric that takes into account both, called Topic Efficiency.\\n\\nBy clicking on a topic, you’ll get a list of headlines, questions, and related searches.\\n\\nOne of the best ways to get engagement on LinkedIn is by answering questions.\\n\\nHere’s one that could be a good topic: “Do SEO keywords need to be exact?” [...] When it comes to your posting strategy, you should aim to post at least 1-3 times a week. But what works best for you will depend on your own goals and audience.\\n\\n4. Focus on Engagement\\n\\nOne of the best ways to get ahead on LinkedIn is through engagement.\\n\\nAs you begin to receive reactions and comments, make an effort to respond as quickly and frequently as you can.\\n\\nYou should also engage with others by commenting, liking, and sharing posts within your niche.', 'score': 0.7274535}, {'title': 'LinkedIn SEO in 2024: Secrets to Boost Your Reach - Hootsuite Blog', 'url': 'https://blog.hootsuite.com/linkedin-seo/', 'content': 'By choosing the right keywords and optimizing your content to reflect them (e.g. by including them in titles) you can make it more likely that people searching for those keywords land on your page. For LinkedIn SEO, it’s about using keywords that clearly communicate what a profile, a company page, or your posts are about.', 'score': 0.7023877}]\u001b[0m\n",
      "Thought:\u001b[32;1m\u001b[1;3m**Level Up Your Mechanical Engineering Career with AI & ML! 🚀 #AIinManufacturing #MachineLearning**\n",
      "\n",
      "Hey #MechanicalEngineers and #Manufacturing professionals! 👋 Want to future-proof your career and stay ahead of the curve?\n",
      "\n",
      "Artificial Intelligence (AI) and Machine Learning (ML) are no longer just buzzwords. They're transforming #MechanicalEngineering, revolutionizing manufacturing processes, design innovation, and predictive maintenance strategies.\n",
      "\n",
      "Here's how AI/ML impacts your field:\n",
      "\n",
      "*   **Predictive Maintenance:** Use algorithms to predict equipment failures BEFORE they happen, saving valuable time and resources! ⏱️💰 #PredictiveMaintenance\n",
      "*   **Generative Design:** Leverage AI to create innovative designs – lighter, stronger, and more efficient than ever before! 💡 #GenerativeDesign #Innovation\n",
      "*   **Automated Quality Control:** Ensure top-notch product quality with AI-powered defect detection, surpassing human accuracy. ✅ #QualityControl #Automation\n",
      "\n",
      "**Why YOU should care about AI/ML:**\n",
      "\n",
      "Mastering AI/ML will make you a *highly* sought-after #Engineer. It's the key to:\n",
      "\n",
      "*   **Boosting Efficiency:** Streamlining operations and minimizing waste for maximum productivity. ⚙️ #Efficiency\n",
      "*   **Driving Innovation:** Developing cutting-edge solutions and pushing the boundaries of engineering. ✨ #Innovation\n",
      "*   **Increasing Earning Potential:** Acquiring in-demand skills that translate to higher salaries and career advancement. 🤑 #CareerDevelopment\n",
      "\n",
      "**Ready to get started with AI/ML?**\n",
      "\n",
      "*   Enroll in online courses on platforms like Coursera or Udacity. 💻\n",
      "*   Identify AI/ML applications within your current projects to gain practical experience. 🔎\n",
      "*   Join online communities and connect with AI/ML experts in the engineering field! 🤝\n",
      "\n",
      "#AI #FutureofWork #Engineering #TechSkills #Career #LinkedIn #ManufacturingEngineering #Industry40\u001b[0m\n",
      "Observation: Invalid Format: Missing 'Action:' after 'Thought:\n",
      "Thought:\u001b[32;1m\u001b[1;3mFinal Answer: Level Up Your Mechanical Engineering Career with AI & ML! 🚀 #AIinManufacturing #MachineLearning\n",
      "\n",
      "Hey #MechanicalEngineers and #Manufacturing professionals! 👋 Want to future-proof your career and stay ahead of the curve?\n",
      "\n",
      "Artificial Intelligence (AI) and Machine Learning (ML) are no longer just buzzwords. They're transforming #MechanicalEngineering, revolutionizing manufacturing processes, design innovation, and predictive maintenance strategies.\n",
      "\n",
      "Here's how AI/ML impacts your field:\n",
      "\n",
      "*   **Predictive Maintenance:** Use algorithms to predict equipment failures BEFORE they happen, saving valuable time and resources! ⏱️💰 #PredictiveMaintenance\n",
      "*   **Generative Design:** Leverage AI to create innovative designs – lighter, stronger, and more efficient than ever before! 💡 #GenerativeDesign #Innovation\n",
      "*   **Automated Quality Control:** Ensure top-notch product quality with AI-powered defect detection, surpassing human accuracy. ✅ #QualityControl #Automation\n",
      "\n",
      "**Why YOU should care about AI/ML:**\n",
      "\n",
      "Mastering AI/ML will make you a *highly* sought-after #Engineer. It's the key to:\n",
      "\n",
      "*   **Boosting Efficiency:** Streamlining operations and minimizing waste for maximum productivity. ⚙️ #Efficiency\n",
      "*   **Driving Innovation:** Developing cutting-edge solutions and pushing the boundaries of engineering. ✨ #Innovation\n",
      "*   **Increasing Earning Potential:** Acquiring in-demand skills that translate to higher salaries and career advancement. 🤑 #CareerDevelopment\n",
      "\n",
      "**Ready to get started with AI/ML?**\n",
      "\n",
      "*   Enroll in online courses on platforms like Coursera or Udacity. 💻\n",
      "*   Identify AI/ML applications within your current projects to gain practical experience. 🔎\n",
      "*   Join online communities and connect with AI/ML experts in the engineering field! 🤝\n",
      "\n",
      "#AI #FutureofWork #Engineering #TechSkills #Career #LinkedIn #ManufacturingEngineering #Industry40\u001b[0m\n",
      "\n",
      "\u001b[1m> Finished chain.\u001b[0m\n",
      "Level Up Your Mechanical Engineering Career with AI & ML! 🚀 #AIinManufacturing #MachineLearning\n",
      "\n",
      "Hey #MechanicalEngineers and #Manufacturing professionals! 👋 Want to future-proof your career and stay ahead of the curve?\n",
      "\n",
      "Artificial Intelligence (AI) and Machine Learning (ML) are no longer just buzzwords. They're transforming #MechanicalEngineering, revolutionizing manufacturing processes, design innovation, and predictive maintenance strategies.\n",
      "\n",
      "Here's how AI/ML impacts your field:\n",
      "\n",
      "*   **Predictive Maintenance:** Use algorithms to predict equipment failures BEFORE they happen, saving valuable time and resources! ⏱️💰 #PredictiveMaintenance\n",
      "*   **Generative Design:** Leverage AI to create innovative designs – lighter, stronger, and more efficient than ever before! 💡 #GenerativeDesign #Innovation\n",
      "*   **Automated Quality Control:** Ensure top-notch product quality with AI-powered defect detection, surpassing human accuracy. ✅ #QualityControl #Automation\n",
      "\n",
      "**Why YOU should care about AI/ML:**\n",
      "\n",
      "Mastering AI/ML will make you a *highly* sought-after #Engineer. It's the key to:\n",
      "\n",
      "*   **Boosting Efficiency:** Streamlining operations and minimizing waste for maximum productivity. ⚙️ #Efficiency\n",
      "*   **Driving Innovation:** Developing cutting-edge solutions and pushing the boundaries of engineering. ✨ #Innovation\n",
      "*   **Increasing Earning Potential:** Acquiring in-demand skills that translate to higher salaries and career advancement. 🤑 #CareerDevelopment\n",
      "\n",
      "**Ready to get started with AI/ML?**\n",
      "\n",
      "*   Enroll in online courses on platforms like Coursera or Udacity. 💻\n",
      "*   Identify AI/ML applications within your current projects to gain practical experience. 🔎\n",
      "*   Join online communities and connect with AI/ML experts in the engineering field! 🤝\n",
      "\n",
      "#AI #FutureofWork #Engineering #TechSkills #Career #LinkedIn #ManufacturingEngineering #Industry40\n"
     ]
    }
   ],
   "source": [
    "print(seo_optimizer(platform='LinkedIn', post=raw_content))"
   ]
  }
 ],
 "metadata": {
  "kernelspec": {
   "display_name": "Python 3",
   "language": "python",
   "name": "python3"
  },
  "language_info": {
   "codemirror_mode": {
    "name": "ipython",
    "version": 3
   },
   "file_extension": ".py",
   "mimetype": "text/x-python",
   "name": "python",
   "nbconvert_exporter": "python",
   "pygments_lexer": "ipython3",
   "version": "3.10.0"
  }
 },
 "nbformat": 4,
 "nbformat_minor": 2
}
