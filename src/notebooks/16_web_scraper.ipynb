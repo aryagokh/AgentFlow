{
 "cells": [
  {
   "cell_type": "code",
   "execution_count": 16,
   "metadata": {},
   "outputs": [
    {
     "data": {
      "text/plain": [
       "True"
      ]
     },
     "execution_count": 16,
     "metadata": {},
     "output_type": "execute_result"
    }
   ],
   "source": [
    "import os\n",
    "from dotenv import load_dotenv\n",
    "import google.genai as genai\n",
    "from google.genai.types import Tool, GoogleSearch, GenerateContentConfig\n",
    "from openai import OpenAI\n",
    "load_dotenv()"
   ]
  },
  {
   "cell_type": "markdown",
   "metadata": {},
   "source": [
    "# Gemini"
   ]
  },
  {
   "cell_type": "code",
   "execution_count": 34,
   "metadata": {},
   "outputs": [],
   "source": [
    "client = genai.Client(api_key=os.getenv('GEMINI_API_KEY'))"
   ]
  },
  {
   "cell_type": "code",
   "execution_count": 35,
   "metadata": {},
   "outputs": [],
   "source": [
    "google_search = Tool(\n",
    "    google_search=GoogleSearch()\n",
    ")"
   ]
  },
  {
   "cell_type": "code",
   "execution_count": 40,
   "metadata": {},
   "outputs": [],
   "source": [
    "response = client.models.generate_content(\n",
    "    model='gemini-2.0-flash',\n",
    "    contents=f'''Scrape internet website and find real time opportunities for Data Science roles.\n",
    "                Scrape this website using google search tool provided : https://internshala.com/internships/data-science-internship-in-mumbai\n",
    "                \n",
    "                 The roles should be based in Mumbai.\n",
    "                 Return None, if you cannot find real time things.\n",
    "                 Return formatof\n",
    "                 job : \n",
    "                 duration (start month - end month) : \n",
    "                 pay : \n",
    "                 link :\n",
    "                 START!!\n",
    "            ''',\n",
    "    config=GenerateContentConfig(\n",
    "        tools=[google_search]\n",
    "    )\n",
    ")"
   ]
  },
  {
   "cell_type": "code",
   "execution_count": 41,
   "metadata": {},
   "outputs": [
    {
     "name": "stdout",
     "output_type": "stream",
     "text": [
      "Okay, I will scrape the provided website to find real-time opportunities for Data Science roles based in Mumbai. I will use the Google search tool to access the website and extract the necessary information. I will then present the data in the requested format:\n",
      "\n",
      "\n",
      "```\n",
      "job :\n",
      "duration (start month - end month) :\n",
      "pay :\n",
      "link :\n",
      "```\n",
      "\n",
      "\n",
      "If no roles are found, I will return \"None\".\n",
      "\n",
      "\n",
      "Okay, based on the search results, here are a couple of Data Science internship opportunities in Mumbai that I found:\n",
      "\n",
      "**Opportunity 1:**\n",
      "\n",
      "job : Data Science Internship\n",
      "duration : Not specified in the snippet, needs to be checked on the application page.\n",
      "pay : Stipend Available (Needs to be checked on application page)\n",
      "link : https://vertexaisearch.cloud.google.com/grounding-api-redirect/AQXblrz8Q33mK0u07IS-7MIOkLrzr-030OH51miyG5lEDGLKdnm944biaXSpX9yS-3UEzjMZKin6uSyur3ANl9NNmenBg7cibkKiXpOrpHalGAwuy3mvpWm6uRfGGwcLLBXEcW2GkpygPWsKhunjRKhMq77Af2BsUQbfYg4vhaMGkxZAAeVZ0O9W (This is a redirect link, the final link should be for the Procter & Gamble Internship)\n",
      "\n",
      "**Opportunity 2:**\n",
      "\n",
      "job : Data Science Internship\n",
      "duration : A few months (typically)\n",
      "pay : Not specified in the snippet, needs to be checked on the application page.\n",
      "link : https://vertexaisearch.cloud.google.com/grounding-api-redirect/AQXblrzaeMnP6fOULVEiQTlN2KhlrTDbL-TtC2buRdYc22hmjahCvooAKnvPCJ601chhNVcdYMT8x5BTmV00NTFOuU5fG522L3j6RFCbga-4WBLY8X1-ehjdUB3VuvRZBEHlPd44IpuRi8Q4fwa8mZwIqQ-m-qaLN7P6ERw8iiYFang= (This is a general link about Maxgen Technologies, further research is needed to find the specific internship posting)\n",
      "\n",
      "**Opportunity 3:**\n",
      "\n",
      "job : Data Science Internship\n",
      "duration : FULL-TIME INTERNSHIP\n",
      "pay : ₹20K-40K (Stipend) | Job Offer ₹ 8 LPA - 15 LPA\n",
      "link : https://vertexaisearch.cloud.google.com/grounding-api-redirect/AQXblrzbS9ZjSCKTRmG648MeMhcLphu_NKQOOJsvy885xmtOJV_ouGVhoYdFrLC0vgkubeozrUIRrM4M492KRCccfq3V4yzw_J48ExlngjHEhpBPTDWwymiLZkfRR77WHqVeVStJE61DW33ocobs3FL70w-ip3WsXs37cO5HmSM9Fq8= (This is a redirect link, the final link should be for the Prodigal Tech Internship)\n",
      "\n",
      "Please note that the duration and exact details might require you to visit the provided links and check the specific internship postings.\n",
      "\n"
     ]
    }
   ],
   "source": [
    "for each in response.candidates[0].content.parts:\n",
    "    print(each.text)"
   ]
  },
  {
   "cell_type": "markdown",
   "metadata": {},
   "source": [
    "# Deepseek"
   ]
  },
  {
   "cell_type": "code",
   "execution_count": 43,
   "metadata": {},
   "outputs": [],
   "source": [
    "client = OpenAI(\n",
    "    base_url=\"https://openrouter.ai/api/v1\",\n",
    "    api_key=os.getenv('OPENROUTER_API_KEY')\n",
    ")"
   ]
  },
  {
   "cell_type": "code",
   "execution_count": 30,
   "metadata": {},
   "outputs": [],
   "source": [
    "response = client.chat.completions.create(\n",
    "    model='deepseek/deepseek-r1-zero:free',\n",
    "    messages = [\n",
    "            {\"role\": \"system\", \"content\": 'You are an expert in scraping websites for real time data. Scrape this : https://internshala.com/internships/data-science-internship-in-mumbai/'},\n",
    "            {\"role\": \"user\", \"content\": 'Scrape internshala and provide real time data science roles. No nonsensical information please. Just tell if you cannot scrape real time. Provide in this format : Job :\\n  Link:\\n Pay:\\n Duration(Start date):'},\n",
    "        ]\n",
    ")"
   ]
  },
  {
   "cell_type": "code",
   "execution_count": 31,
   "metadata": {},
   "outputs": [
    {
     "name": "stdout",
     "output_type": "stream",
     "text": [
      "\\boxed{\n",
      "```python\n",
      "import requests\n",
      "from bs4 import BeautifulSoup\n",
      "\n",
      "URL = \"https://internshala.com/internships/data-science-internship-in-mumbai/\"\n",
      "response = requests.get(URL)\n",
      "soup = BeautifulSoup(response.content, 'html.parser')\n",
      "\n",
      "# Identify the main container that holds individual internship thumbnails (assuming class=\"internship_meta\")\n",
      "internship_containers = soup.find_all(\"div\", class_=\"internship_meta\")\n",
      "\n",
      "results = []\n",
      "\n",
      "for container in internship_containers:\n",
      "    job_title_tag = container.find(\"h3\", class_=\"heading_4_5 profile\")\n",
      "    if job_title_tag and job_title_tag.a:\n",
      "        job_title = job_title_tag.a.get_text(strip=True)\n",
      "        link = \"https://internshala.com\" + job_title_tag.a[\"href\"]\n",
      "    else:\n",
      "        job_title = \"No job title found\"\n",
      "        link = \"No link found\"\n",
      "\n",
      "    # Extract pay details (assuming class=\"stipend\")\n",
      "    pay_tag = container.find(\"span\", class_=\"stipend\")\n",
      "    if pay_tag:\n",
      "        pay = pay_tag.get_text(strip=True)\n",
      "    else:\n",
      "        pay = \"No pay information found\"\n",
      "\n",
      "    # Extract duration details (assuming class=\"item_body\")\n",
      "    duration_tags = container.find_all(\"div\", class_=\"item_body\")\n",
      "    if duration_tags and len(duration_tags) >= 2:\n",
      "        duration = duration_tags[1].get_text(strip=True)\n",
      "    else:\n",
      "        duration = \"No duration information found\"\n",
      "\n",
      "    job_info = {\n",
      "        \"Job\": job_title,\n",
      "        \"Link\": link,\n",
      "        \"Pay\": pay,\n",
      "        \"Duration\": duration\n",
      "    }\n",
      "    results.append(job_info)\n",
      "\n",
      "# Printing out results in the prescribed format\n",
      "for result in results:\n",
      "    print(f\"Job: {result['Job']}\")\n",
      "    print(f\"Link: {result['Link']}\")\n",
      "    print(f\"Pay: {result['Pay']}\")\n",
      "    print(f\"Duration(Start date): {result['Duration']}\\n\")\n",
      "```\n",
      "}\n"
     ]
    }
   ],
   "source": [
    "print(response.choices[0].message.content)"
   ]
  },
  {
   "cell_type": "code",
   "execution_count": 32,
   "metadata": {},
   "outputs": [
    {
     "name": "stdout",
     "output_type": "stream",
     "text": [
      "Job: No job title found\n",
      "Link: No link found\n",
      "Pay: ₹ 5,000-10,000 /month\n",
      "Duration(Start date): No duration information found\n",
      "\n",
      "Job: No job title found\n",
      "Link: No link found\n",
      "Pay: Not provided\n",
      "Duration(Start date): No duration information found\n",
      "\n",
      "Job: No job title found\n",
      "Link: No link found\n",
      "Pay: ₹ 2,000 /month\n",
      "Duration(Start date): No duration information found\n",
      "\n",
      "Job: No job title found\n",
      "Link: No link found\n",
      "Pay: ₹ 30,000 /month\n",
      "Duration(Start date): No duration information found\n",
      "\n",
      "Job: No job title found\n",
      "Link: No link found\n",
      "Pay: ₹ 30,000 /month\n",
      "Duration(Start date): No duration information found\n",
      "\n",
      "Job: No job title found\n",
      "Link: No link found\n",
      "Pay: ₹ 40,000 /month\n",
      "Duration(Start date): No duration information found\n",
      "\n",
      "Job: No job title found\n",
      "Link: No link found\n",
      "Pay: ₹ 5,000 - 10,000 /month\n",
      "Duration(Start date): No duration information found\n",
      "\n",
      "Job: No job title found\n",
      "Link: No link found\n",
      "Pay: ₹ 25,000 /month\n",
      "Duration(Start date): No duration information found\n",
      "\n",
      "Job: No job title found\n",
      "Link: No link found\n",
      "Pay: ₹ 5,000 - 10,000 /month\n",
      "Duration(Start date): No duration information found\n",
      "\n",
      "Job: No job title found\n",
      "Link: No link found\n",
      "Pay: ₹ 15,000 /month\n",
      "Duration(Start date): No duration information found\n",
      "\n",
      "Job: No job title found\n",
      "Link: No link found\n",
      "Pay: ₹ 12,000 /month\n",
      "Duration(Start date): No duration information found\n",
      "\n",
      "Job: No job title found\n",
      "Link: No link found\n",
      "Pay: ₹ 15,000 /month\n",
      "Duration(Start date): No duration information found\n",
      "\n",
      "Job: No job title found\n",
      "Link: No link found\n",
      "Pay: ₹ 5,000 /month\n",
      "Duration(Start date): No duration information found\n",
      "\n",
      "Job: No job title found\n",
      "Link: No link found\n",
      "Pay: ₹ 10,000 /month\n",
      "Duration(Start date): No duration information found\n",
      "\n",
      "Job: No job title found\n",
      "Link: No link found\n",
      "Pay: ₹ 10,000 /month\n",
      "Duration(Start date): No duration information found\n",
      "\n",
      "Job: No job title found\n",
      "Link: No link found\n",
      "Pay: ₹ 10,000 /month\n",
      "Duration(Start date): No duration information found\n",
      "\n",
      "Job: No job title found\n",
      "Link: No link found\n",
      "Pay: ₹ 10,000 /month\n",
      "Duration(Start date): No duration information found\n",
      "\n",
      "Job: No job title found\n",
      "Link: No link found\n",
      "Pay: ₹ 12,000 /month\n",
      "Duration(Start date): No duration information found\n",
      "\n",
      "Job: No job title found\n",
      "Link: No link found\n",
      "Pay: ₹ 5,000-8,000 /month\n",
      "Duration(Start date): No duration information found\n",
      "\n",
      "Job: No job title found\n",
      "Link: No link found\n",
      "Pay: ₹ 20,000 /month\n",
      "Duration(Start date): No duration information found\n",
      "\n",
      "Job: No job title found\n",
      "Link: No link found\n",
      "Pay: ₹ 20,000 /month\n",
      "Duration(Start date): No duration information found\n",
      "\n",
      "Job: No job title found\n",
      "Link: No link found\n",
      "Pay: ₹ 2,500 /month +  Incentives\n",
      "Duration(Start date): No duration information found\n",
      "\n",
      "Job: No job title found\n",
      "Link: No link found\n",
      "Pay: ₹ 12,000-15,000 /month\n",
      "Duration(Start date): No duration information found\n",
      "\n",
      "Job: No job title found\n",
      "Link: No link found\n",
      "Pay: ₹ 10,000 /month\n",
      "Duration(Start date): No duration information found\n",
      "\n",
      "Job: No job title found\n",
      "Link: No link found\n",
      "Pay: ₹ 3,000-6,500 /month\n",
      "Duration(Start date): No duration information found\n",
      "\n",
      "Job: No job title found\n",
      "Link: No link found\n",
      "Pay: ₹ 5,000 /month\n",
      "Duration(Start date): No duration information found\n",
      "\n"
     ]
    }
   ],
   "source": [
    "import requests\n",
    "from bs4 import BeautifulSoup\n",
    "\n",
    "URL = \"https://internshala.com/internships/data-science-internship-in-mumbai/\"\n",
    "response = requests.get(URL)\n",
    "soup = BeautifulSoup(response.content, 'html.parser')\n",
    "\n",
    "# Identify the main container that holds individual internship thumbnails (assuming class=\"internship_meta\")\n",
    "internship_containers = soup.find_all(\"div\", class_=\"internship_meta\")\n",
    "\n",
    "results = []\n",
    "\n",
    "for container in internship_containers:\n",
    "    job_title_tag = container.find(\"h3\", class_=\"heading_4_5 profile\")\n",
    "    if job_title_tag and job_title_tag.a:\n",
    "        job_title = job_title_tag.a.get_text(strip=True)\n",
    "        link = \"https://internshala.com\" + job_title_tag.a[\"href\"]\n",
    "    else:\n",
    "        job_title = \"No job title found\"\n",
    "        link = \"No link found\"\n",
    "\n",
    "    # Extract pay details (assuming class=\"stipend\")\n",
    "    pay_tag = container.find(\"span\", class_=\"stipend\")\n",
    "    if pay_tag:\n",
    "        pay = pay_tag.get_text(strip=True)\n",
    "    else:\n",
    "        pay = \"No pay information found\"\n",
    "\n",
    "    # Extract duration details (assuming class=\"item_body\")\n",
    "    duration_tags = container.find_all(\"div\", class_=\"item_body\")\n",
    "    if duration_tags and len(duration_tags) >= 2:\n",
    "        duration = duration_tags[1].get_text(strip=True)\n",
    "    else:\n",
    "        duration = \"No duration information found\"\n",
    "\n",
    "    job_info = {\n",
    "        \"Job\": job_title,\n",
    "        \"Link\": link,\n",
    "        \"Pay\": pay,\n",
    "        \"Duration\": duration\n",
    "    }\n",
    "    results.append(job_info)\n",
    "\n",
    "# Printing out results in the prescribed format\n",
    "for result in results:\n",
    "    print(f\"Job: {result['Job']}\")\n",
    "    print(f\"Link: {result['Link']}\")\n",
    "    print(f\"Pay: {result['Pay']}\")\n",
    "    print(f\"Duration(Start date): {result['Duration']}\\n\")"
   ]
  },
  {
   "cell_type": "markdown",
   "metadata": {},
   "source": [
    "# Perplexity"
   ]
  },
  {
   "cell_type": "code",
   "execution_count": 57,
   "metadata": {},
   "outputs": [
    {
     "name": "stdout",
     "output_type": "stream",
     "text": [
      "<html>\n",
      "<head><title>401 Authorization Required</title></head>\n",
      "<body>\n",
      "<center><h1>401 Authorization Required</h1></center>\n",
      "<hr><center>openresty/1.27.4</center>\n",
      "<script>(function(){function c(){var b=a.contentDocument||a.contentWindow.document;if(b){var d=b.createElement('script');d.innerHTML=\"window.__CF$cv$params={r:'92778ba28aea4016',t:'MTc0MzE2OTI5MC4wMDAwMDA='};var a=document.createElement('script');a.nonce='';a.src='/cdn-cgi/challenge-platform/scripts/jsd/main.js';document.getElementsByTagName('head')[0].appendChild(a);\";b.getElementsByTagName('head')[0].appendChild(d)}}if(document.body){var a=document.createElement('iframe');a.height=1;a.width=1;a.style.position='absolute';a.style.top=0;a.style.left=0;a.style.border='none';a.style.visibility='hidden';document.body.appendChild(a);if('loading'!==document.readyState)c();else if(window.addEventListener)document.addEventListener('DOMContentLoaded',c);else{var e=document.onreadystatechange||function(){};document.onreadystatechange=function(b){e(b);'loading'!==document.readyState&&(document.onreadystatechange=e,c())}}}})();</script></body>\n",
      "</html>\n",
      "\n"
     ]
    }
   ],
   "source": [
    "import requests\n",
    "\n",
    "url = \"https://api.perplexity.ai/chat/completions\"\n",
    "\n",
    "payload = {\n",
    "    \"model\": \"sonar\",\n",
    "    \"messages\": [\n",
    "        {\n",
    "            \"role\": \"system\",\n",
    "            \"content\": \"Be precise and concise.\"\n",
    "        },\n",
    "        {\n",
    "            \"role\": \"user\",\n",
    "            \"content\": \"How many stars are there in our galaxy?\"\n",
    "        }\n",
    "    ],\n",
    "    \"max_tokens\": 123,\n",
    "    \"temperature\": 0.2,\n",
    "    \"top_p\": 0.9,\n",
    "    \"search_domain_filter\": [\"<any>\"],\n",
    "    \"return_images\": False,\n",
    "    \"return_related_questions\": False,\n",
    "    \"search_recency_filter\": \"<string>\",\n",
    "    \"top_k\": 0,\n",
    "    \"stream\": False,\n",
    "    \"presence_penalty\": 0,\n",
    "    \"frequency_penalty\": 1,\n",
    "    \"response_format\": {},\n",
    "    \"web_search_options\": {\"search_context_size\": \"high\"}\n",
    "}\n",
    "headers = {\n",
    "    \"Authorization\": \"Bearer <token>\",\n",
    "    \"Content-Type\": \"application/json\"\n",
    "}\n",
    "\n",
    "response = requests.request(\"POST\", url, json=payload, headers=headers)\n",
    "\n",
    "print(response.text)"
   ]
  },
  {
   "cell_type": "code",
   "execution_count": 62,
   "metadata": {},
   "outputs": [],
   "source": [
    "response = client.chat.completions.create(\n",
    "    model='cognitivecomputations/dolphin3.0-r1-mistral-24b:free',\n",
    "    messages = [\n",
    "            {\"role\": \"system\", \"content\": 'You are an expert in scraping websites for real time data. Scrape this : https://internshala.com/internships/data-science-internship-in-mumbai/'},\n",
    "            {\"role\": \"user\", \"content\": 'Scrape internshala and provide real time data science roles. No nonsensical information please. Just tell if you cannot scrape real time. Provide in this format : Job :\\n  Link:\\n Pay:\\n Duration(Start date):'},\n",
    "        ]\n",
    ")"
   ]
  },
  {
   "cell_type": "code",
   "execution_count": 63,
   "metadata": {},
   "outputs": [
    {
     "name": "stdout",
     "output_type": "stream",
     "text": [
      "Job: Data Science Internship in Mumbai  \n",
      "Link: [https://internshala.com/internships/data-science-internship-in-mumbai/](https://internshala.com/internships/data-science-internship-in-mumbai/)  \n",
      "Pay: Not specified  \n",
      "Duration (Start date): No duration details available  \n",
      "\n",
      "**Note:** The provided URL does not contain valid internship listings. The page is empty except for nonsensical text, suggesting it may be a fake or outdated page. For accurate data, check trusted job boards like [LinkedIn](https://www.linkedin.com/), [Glassdoor](https://www.glassdoor.com/), or company-specific career pages. Inform the site owner if you encounter issues.\n"
     ]
    }
   ],
   "source": [
    "print(response.choices[0].message.content)"
   ]
  },
  {
   "cell_type": "code",
   "execution_count": 88,
   "metadata": {},
   "outputs": [
    {
     "name": "stdout",
     "output_type": "stream",
     "text": [
      "{'query': '\\nScrape internshala and provide real time data science roles.\\nStrictly only MUMBAI.\\nNo nonsensical information please.\\nJust tell if you cannot scrape real time. \\nProvide in this format : \\nJob : \\nLink: \\nPay:\\nDuration(Start date):\\n', 'follow_up_questions': None, 'answer': None, 'images': [], 'results': [{'title': 'Internship Opportunities for Data Science in Mumbai', 'url': 'https://www.placementpreparation.io/blog/data-science-internships-in-mumbai/', 'content': 'Discover top data science internships in Mumbai. Explore exciting opportunities to kickstart your career with hands-on experience. Apply now! ... Can start the internship between 7th Feb 2025 and 14th Mar 2025. Candidates from Thane, Navi Mumbai, Mumbai, and neighboring cities.', 'score': 0.93952066, 'raw_content': None}, {'title': '21 data science internship jobs in Mumbai, March 2025', 'url': 'https://www.glassdoor.co.in/Job/data-science-internship-jobs-SRCH_IC2851180_KO0,23.htm', 'content': 'Clinical Data Analyst/Specialist. Location: TATA MEMORIAL HOSPITAL, Homi Bhabha Block, Parel East, Parel, Mumbai, Maharashtra, India. Salary: ₹10,000 for the first month (Internship) → ₹20,000 per month (Full-time) Timings: 9 AM - 6 PM. About Jarurat Care Foundation', 'score': 0.91671574, 'raw_content': None}, {'title': '130 Data Science Intern Jobs in Mumbai Metropolitan Region (7 new)', 'url': 'https://in.linkedin.com/jobs/data-science-intern-jobs-mumbai-metropolitan-region', 'content': \"Today's top 130 Data Science Intern jobs in Mumbai Metropolitan Region. Leverage your professional network, and get hired. New Data Science Intern jobs added daily. ... Associate- Data scientist - GO/JC/21228/2025 Golden Opportunities Mumbai Metropolitan Region Actively Hiring 3 days ago Data Scientist\", 'score': 0.85008353, 'raw_content': None}, {'title': '22 data science internship jobs in Mumbai, March 2025', 'url': 'https://www.glassdoor.co.in/Job/mumbai-data-science-internship-jobs-SRCH_IL.0,6_IC2851180_KO7,30.htm', 'content': \"Antarctica Global is a Mumbai-based climate technology company with clients across the globe. We build scalable products that change people's lives and make the world a better place. Be it to help an urban farm greatly increase its crop yield using IoT; to help a chain of schools in a third-world country bridge the communication gap between parents and teachers; to help a group of hospitals\", 'score': 0.8066246, 'raw_content': None}, {'title': 'Microsoft Data Science Internship Opportunity 2025 | Multiple Locations ...', 'url': 'https://placementdrive.in/job/microsoft-data-science-internship-feb-2025', 'content': 'Microsoft is hiring candidates for the role of Data Scientist Intern for the Across India (Multiple) locations. The complete details about Microsoft Data Science Internship Opportunity 2025 are as follows.', 'score': 0.7900289, 'raw_content': None}], 'response_time': 2.05}\n"
     ]
    }
   ],
   "source": [
    "from tavily import TavilyClient\n",
    "tavily_client = TavilyClient(api_key=os.getenv('TAVILY_API_KEY'))\n",
    "response = tavily_client.search(f'''\n",
    "Scrape internshala and provide real time data science roles.\n",
    "Strictly only MUMBAI.\n",
    "No nonsensical information please.\n",
    "Just tell if you cannot scrape real time. \n",
    "Provide in this format : \n",
    "Job : \n",
    "Link: \n",
    "Pay:\n",
    "Duration(Start date):\n",
    "''')\n",
    "print(response)"
   ]
  },
  {
   "cell_type": "code",
   "execution_count": 89,
   "metadata": {},
   "outputs": [
    {
     "data": {
      "text/plain": [
       "[{'title': 'Internship Opportunities for Data Science in Mumbai',\n",
       "  'url': 'https://www.placementpreparation.io/blog/data-science-internships-in-mumbai/',\n",
       "  'content': 'Discover top data science internships in Mumbai. Explore exciting opportunities to kickstart your career with hands-on experience. Apply now! ... Can start the internship between 7th Feb 2025 and 14th Mar 2025. Candidates from Thane, Navi Mumbai, Mumbai, and neighboring cities.',\n",
       "  'score': 0.93952066,\n",
       "  'raw_content': None},\n",
       " {'title': '21 data science internship jobs in Mumbai, March 2025',\n",
       "  'url': 'https://www.glassdoor.co.in/Job/data-science-internship-jobs-SRCH_IC2851180_KO0,23.htm',\n",
       "  'content': 'Clinical Data Analyst/Specialist. Location: TATA MEMORIAL HOSPITAL, Homi Bhabha Block, Parel East, Parel, Mumbai, Maharashtra, India. Salary: ₹10,000 for the first month (Internship) → ₹20,000 per month (Full-time) Timings: 9 AM - 6 PM. About Jarurat Care Foundation',\n",
       "  'score': 0.91671574,\n",
       "  'raw_content': None},\n",
       " {'title': '130 Data Science Intern Jobs in Mumbai Metropolitan Region (7 new)',\n",
       "  'url': 'https://in.linkedin.com/jobs/data-science-intern-jobs-mumbai-metropolitan-region',\n",
       "  'content': \"Today's top 130 Data Science Intern jobs in Mumbai Metropolitan Region. Leverage your professional network, and get hired. New Data Science Intern jobs added daily. ... Associate- Data scientist - GO/JC/21228/2025 Golden Opportunities Mumbai Metropolitan Region Actively Hiring 3 days ago Data Scientist\",\n",
       "  'score': 0.85008353,\n",
       "  'raw_content': None},\n",
       " {'title': '22 data science internship jobs in Mumbai, March 2025',\n",
       "  'url': 'https://www.glassdoor.co.in/Job/mumbai-data-science-internship-jobs-SRCH_IL.0,6_IC2851180_KO7,30.htm',\n",
       "  'content': \"Antarctica Global is a Mumbai-based climate technology company with clients across the globe. We build scalable products that change people's lives and make the world a better place. Be it to help an urban farm greatly increase its crop yield using IoT; to help a chain of schools in a third-world country bridge the communication gap between parents and teachers; to help a group of hospitals\",\n",
       "  'score': 0.8066246,\n",
       "  'raw_content': None},\n",
       " {'title': 'Microsoft Data Science Internship Opportunity 2025 | Multiple Locations ...',\n",
       "  'url': 'https://placementdrive.in/job/microsoft-data-science-internship-feb-2025',\n",
       "  'content': 'Microsoft is hiring candidates for the role of Data Scientist Intern for the Across India (Multiple) locations. The complete details about Microsoft Data Science Internship Opportunity 2025 are as follows.',\n",
       "  'score': 0.7900289,\n",
       "  'raw_content': None}]"
      ]
     },
     "execution_count": 89,
     "metadata": {},
     "output_type": "execute_result"
    }
   ],
   "source": [
    "response['results']"
   ]
  },
  {
   "cell_type": "code",
   "execution_count": 90,
   "metadata": {},
   "outputs": [
    {
     "name": "stdout",
     "output_type": "stream",
     "text": [
      "Internship Opportunities for Data Science in Mumbai\n",
      "https://www.placementpreparation.io/blog/data-science-internships-in-mumbai/\n",
      "Discover top data science internships in Mumbai. Explore exciting opportunities to kickstart your career with hands-on experience. Apply now! ... Can start the internship between 7th Feb 2025 and 14th Mar 2025. Candidates from Thane, Navi Mumbai, Mumbai, and neighboring cities.\n",
      "\n",
      "21 data science internship jobs in Mumbai, March 2025\n",
      "https://www.glassdoor.co.in/Job/data-science-internship-jobs-SRCH_IC2851180_KO0,23.htm\n",
      "Clinical Data Analyst/Specialist. Location: TATA MEMORIAL HOSPITAL, Homi Bhabha Block, Parel East, Parel, Mumbai, Maharashtra, India. Salary: ₹10,000 for the first month (Internship) → ₹20,000 per month (Full-time) Timings: 9 AM - 6 PM. About Jarurat Care Foundation\n",
      "\n",
      "130 Data Science Intern Jobs in Mumbai Metropolitan Region (7 new)\n",
      "https://in.linkedin.com/jobs/data-science-intern-jobs-mumbai-metropolitan-region\n",
      "Today's top 130 Data Science Intern jobs in Mumbai Metropolitan Region. Leverage your professional network, and get hired. New Data Science Intern jobs added daily. ... Associate- Data scientist - GO/JC/21228/2025 Golden Opportunities Mumbai Metropolitan Region Actively Hiring 3 days ago Data Scientist\n",
      "\n",
      "22 data science internship jobs in Mumbai, March 2025\n",
      "https://www.glassdoor.co.in/Job/mumbai-data-science-internship-jobs-SRCH_IL.0,6_IC2851180_KO7,30.htm\n",
      "Antarctica Global is a Mumbai-based climate technology company with clients across the globe. We build scalable products that change people's lives and make the world a better place. Be it to help an urban farm greatly increase its crop yield using IoT; to help a chain of schools in a third-world country bridge the communication gap between parents and teachers; to help a group of hospitals\n",
      "\n",
      "Microsoft Data Science Internship Opportunity 2025 | Multiple Locations ...\n",
      "https://placementdrive.in/job/microsoft-data-science-internship-feb-2025\n",
      "Microsoft is hiring candidates for the role of Data Scientist Intern for the Across India (Multiple) locations. The complete details about Microsoft Data Science Internship Opportunity 2025 are as follows.\n",
      "\n"
     ]
    }
   ],
   "source": [
    "for result in response['results']:\n",
    "    print(result['title'])\n",
    "    print(result['url'])\n",
    "    print(result['content'])\n",
    "    print()"
   ]
  },
  {
   "cell_type": "markdown",
   "metadata": {},
   "source": [
    "# Using tavily is best for free.\n",
    "# Perplexity Sonars is best for paid."
   ]
  },
  {
   "cell_type": "code",
   "execution_count": 93,
   "metadata": {},
   "outputs": [],
   "source": [
    "from tavily import TavilyClient\n",
    "import os\n",
    "tavily_client = TavilyClient(api_key=os.getenv('TAVILY_API_KEY'))\n",
    "\n",
    "prompt = f'''\n",
    "You are an expert web scraper.\n",
    "You should search for jobs related to Junior Data Science.\n",
    "Roles should be based in Mumbai.\n",
    "You should only provide real time information.\n",
    "'''\n",
    "\n",
    "def scrape_web(prompt):\n",
    "    response = tavily_client.search(prompt)\n",
    "    return response"
   ]
  },
  {
   "cell_type": "code",
   "execution_count": 94,
   "metadata": {},
   "outputs": [
    {
     "name": "stdout",
     "output_type": "stream",
     "text": [
      "122 junior data analyst jobs in Mumbai, March 2025 | Glassdoor\n",
      "https://www.glassdoor.co.in/Job/mumbai-junior-data-analyst-jobs-SRCH_IL.0,6_IC2851180_KO7,26.htm\n",
      "Search Junior data analyst jobs in Mumbai with company ratings & salaries. 122 open jobs for Junior data analyst in Mumbai.\n",
      "\n",
      "Urgent! DATA Scientist jobs in Mumbai - March 2025 - 278 current ...\n",
      "https://in.jobsora.com/jobs-data-scientist-mumbai\n",
      "Apply to 278 DATA Scientist Jobs in Mumbai on Jobsora, India's No.1 Job Portal. Explore DATA Scientist Openings in Mumbai Now!\n",
      "\n",
      "1,630 data science jobs in Mumbai, March 2025 | Glassdoor\n",
      "https://www.glassdoor.co.in/Job/mumbai-data-science-jobs-SRCH_IL.0,6_IC2851180_KO7,19.htm\n",
      "Search Data science jobs in Mumbai with company ratings & salaries. 1,630 open jobs for Data science in Mumbai.\n",
      "\n",
      "Junior Data Scientist jobs in Mumbai, Maharashtra - Indeed\n",
      "https://in.indeed.com/Junior-Data-Scientist-jobs-in-Mumbai,-Maharashtra\n",
      "10 Junior Data Scientist jobs available in Mumbai, Maharashtra on Indeed.com.\n",
      "\n",
      "86,000+ Junior Data Scientist Jobs in Mumbai Metropolitan Region (5,692 ...\n",
      "https://in.linkedin.com/jobs/junior-data-scientist-jobs-mumbai-metropolitan-region\n",
      "Today's top 86,000+ Junior Data Scientist jobs in Mumbai Metropolitan Region. Leverage your professional network, and get hired. New Junior Data Scientist jobs added daily.\n",
      "\n"
     ]
    }
   ],
   "source": [
    "response = scrape_web(prompt=prompt)\n",
    "\n",
    "for result in response['results']:\n",
    "    print(result['title'])\n",
    "    print(result['url'])\n",
    "    print(result['content'])\n",
    "    print()"
   ]
  },
  {
   "cell_type": "code",
   "execution_count": null,
   "metadata": {},
   "outputs": [],
   "source": []
  }
 ],
 "metadata": {
  "kernelspec": {
   "display_name": "Python 3",
   "language": "python",
   "name": "python3"
  },
  "language_info": {
   "codemirror_mode": {
    "name": "ipython",
    "version": 3
   },
   "file_extension": ".py",
   "mimetype": "text/x-python",
   "name": "python",
   "nbconvert_exporter": "python",
   "pygments_lexer": "ipython3",
   "version": "3.10.0"
  }
 },
 "nbformat": 4,
 "nbformat_minor": 2
}
