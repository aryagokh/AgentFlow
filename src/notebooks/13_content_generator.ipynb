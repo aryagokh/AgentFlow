{
 "cells": [
  {
   "cell_type": "code",
   "execution_count": 2,
   "metadata": {},
   "outputs": [
    {
     "data": {
      "text/plain": [
       "True"
      ]
     },
     "execution_count": 2,
     "metadata": {},
     "output_type": "execute_result"
    }
   ],
   "source": [
    "import google.genai as genai\n",
    "import os\n",
    "from dotenv import load_dotenv\n",
    "load_dotenv()"
   ]
  },
  {
   "cell_type": "code",
   "execution_count": 40,
   "metadata": {},
   "outputs": [],
   "source": [
    "from pydantic import BaseModel\n",
    "from typing import List, Dict\n",
    "\n",
    "class Item(BaseModel):\n",
    "    item: str\n",
    "    quantity: str\n",
    "\n",
    "class RecipeResponse(BaseModel):\n",
    "    content: str\n",
    "    items: List[Item]"
   ]
  },
  {
   "cell_type": "code",
   "execution_count": 25,
   "metadata": {},
   "outputs": [],
   "source": [
    "def create_content_generation_prompt(role, work, additional_info=None):\n",
    "    prompt = f'''\n",
    "    You are an expert {role}.\n",
    "    This time you have to do the following:\n",
    "    {work}\n",
    "    Generate content based on it. It should be simple, straight forward and easy to implement if implementation is possible.\n",
    "    If there are any items present in the content generated, please keep a track of it and its quantity (start with smallest possible available).\n",
    "    Please do not use any filler words and no **highlighted headers and titles**.\n",
    "    Output should be strictly in the following JSON structure:\n",
    "    ```json{{\n",
    "    content : generated content,\n",
    "    items : [items]\n",
    "    }}```\n",
    "    '''\n",
    "    if additional_info is not None:\n",
    "        prompt = prompt + '\\n' + f'''\n",
    "        Also, consider this additional details:\n",
    "        {additional_info}.\n",
    "        '''\n",
    "\n",
    "    return prompt"
   ]
  },
  {
   "cell_type": "code",
   "execution_count": 26,
   "metadata": {},
   "outputs": [],
   "source": [
    "client = genai.Client(api_key=os.getenv('GEMINI_API_KEY'))\n",
    "response = client.models.generate_content(\n",
    "    model='gemini-2.0-flash',\n",
    "    contents=create_content_generation_prompt('chef', 'Make egg fried rice for 4 people', additional_info='Add indian spices.')\n",
    ")"
   ]
  },
  {
   "cell_type": "code",
   "execution_count": 27,
   "metadata": {},
   "outputs": [
    {
     "name": "stdout",
     "output_type": "stream",
     "text": [
      "```json\n",
      "{\n",
      "  \"content\": \"## Egg Fried Rice (Indian Style) for 4\\n\\nThis recipe combines classic egg fried rice with warm Indian spices for a flavorful twist.\\n\\n**Ingredients:**\\n\\n*   2 cups cooked rice (preferably day-old, cooled)\\n*   2 eggs\\n*   1/2 medium onion, finely chopped\\n*   1 green chili, finely chopped (adjust to taste)\\n*   1/2 teaspoon ginger-garlic paste\\n*   1/4 teaspoon turmeric powder\\n*   1/2 teaspoon red chili powder\\n*   1/2 teaspoon garam masala\\n*   1 tablespoon vegetable oil\\n*   1/4 cup chopped cilantro (coriander leaves)\\n*   Salt to taste\\n*   1/4 teaspoon black pepper\\n\\n**Instructions:**\\n\\n1.  Heat oil in a wok or large frying pan over medium-high heat.\\n2.  Scramble eggs with a pinch of salt and black pepper. Cook until set, then remove from pan and set aside.\\n3.  Add chopped onion and green chili to the same pan and saute until onions are translucent, about 2-3 minutes.\\n4.  Add ginger-garlic paste and saute for another minute until fragrant.\\n5.  Stir in turmeric powder, red chili powder and garam masala. Saute for 30 seconds.\\n6.  Add cooked rice to the pan and mix well, breaking up any clumps.\\n7.  Add the scrambled eggs back into the pan. \\n8.  Stir fry everything together for 2-3 minutes until heated through and well combined.\\n9.  Season with salt to taste.\\n10. Garnish with chopped cilantro and serve hot.\\n\\nEnjoy!\",\n",
      "  \"items\": [\n",
      "    {\n",
      "      \"item\": \"Green chili\",\n",
      "      \"quantity\": \"1\"\n",
      "    },\n",
      "    {\n",
      "      \"item\": \"Egg\",\n",
      "      \"quantity\": \"2\"\n",
      "    },\n",
      "    {\n",
      "      \"item\": \"Onion\",\n",
      "      \"quantity\": \"1/2\"\n",
      "    },\n",
      "    {\n",
      "      \"item\": \"Vegetable oil\",\n",
      "      \"quantity\": \"1 tablespoon\"\n",
      "    },\n",
      "    {\n",
      "      \"item\": \"Cilantro\",\n",
      "      \"quantity\": \"1/4 cup\"\n",
      "    },\n",
      "    {\n",
      "      \"item\": \"Ginger-garlic paste\",\n",
      "      \"quantity\": \"1/2 teaspoon\"\n",
      "    },\n",
      "    {\n",
      "      \"item\": \"Turmeric powder\",\n",
      "      \"quantity\": \"1/4 teaspoon\"\n",
      "    },\n",
      "    {\n",
      "      \"item\": \"Black pepper\",\n",
      "      \"quantity\": \"1/4 teaspoon\"\n",
      "    },\n",
      "    {\n",
      "      \"item\": \"Red chili powder\",\n",
      "      \"quantity\": \"1/2 teaspoon\"\n",
      "    },\n",
      "    {\n",
      "      \"item\": \"Garam masala\",\n",
      "      \"quantity\": \"1/2 teaspoon\"\n",
      "    },\n",
      "    {\n",
      "      \"item\": \"Rice\",\n",
      "      \"quantity\": \"2 cups\"\n",
      "    }\n",
      "  ]\n",
      "}\n",
      "```\n"
     ]
    }
   ],
   "source": [
    "print(response.candidates[0].content.parts[0].text)"
   ]
  },
  {
   "cell_type": "code",
   "execution_count": 41,
   "metadata": {},
   "outputs": [],
   "source": [
    "import json\n",
    "\n",
    "def clean_json_output(raw_text):\n",
    "    \"\"\" Extract valid JSON from Gemini's markdown-styled output. \"\"\"\n",
    "    try:\n",
    "        # Remove Markdown ```json ... ``` wrapper\n",
    "        if raw_text.startswith(\"```json\"):\n",
    "            raw_text = raw_text.strip(\"```json\").strip(\"```\")\n",
    "        return json.loads(raw_text)\n",
    "    except json.JSONDecodeError as e:\n",
    "        print(f\"JSON Decoding Error: {e}\")\n",
    "        return None"
   ]
  },
  {
   "cell_type": "code",
   "execution_count": null,
   "metadata": {},
   "outputs": [
    {
     "name": "stdout",
     "output_type": "stream",
     "text": [
      "## Egg Fried Rice (Indian Style) for 4\n",
      "\n",
      "This recipe combines classic egg fried rice with warm Indian spices for a flavorful twist.\n",
      "\n",
      "**Ingredients:**\n",
      "\n",
      "*   2 cups cooked rice (preferably day-old, cooled)\n",
      "*   2 eggs\n",
      "*   1/2 medium onion, finely chopped\n",
      "*   1 green chili, finely chopped (adjust to taste)\n",
      "*   1/2 teaspoon ginger-garlic paste\n",
      "*   1/4 teaspoon turmeric powder\n",
      "*   1/2 teaspoon red chili powder\n",
      "*   1/2 teaspoon garam masala\n",
      "*   1 tablespoon vegetable oil\n",
      "*   1/4 cup chopped cilantro (coriander leaves)\n",
      "*   Salt to taste\n",
      "*   1/4 teaspoon black pepper\n",
      "\n",
      "**Instructions:**\n",
      "\n",
      "1.  Heat oil in a wok or large frying pan over medium-high heat.\n",
      "2.  Scramble eggs with a pinch of salt and black pepper. Cook until set, then remove from pan and set aside.\n",
      "3.  Add chopped onion and green chili to the same pan and saute until onions are translucent, about 2-3 minutes.\n",
      "4.  Add ginger-garlic paste and saute for another minute until fragrant.\n",
      "5.  Stir in turmeric powder, red chili powder and garam masala. Saute for 30 seconds.\n",
      "6.  Add cooked rice to the pan and mix well, breaking up any clumps.\n",
      "7.  Add the scrambled eggs back into the pan. \n",
      "8.  Stir fry everything together for 2-3 minutes until heated through and well combined.\n",
      "9.  Season with salt to taste.\n",
      "10. Garnish with chopped cilantro and serve hot.\n",
      "\n",
      "Enjoy!\n",
      "[{'item': 'Green chili', 'quantity': '1'}, {'item': 'Egg', 'quantity': '2'}, {'item': 'Onion', 'quantity': '1/2'}, {'item': 'Vegetable oil', 'quantity': '1 tablespoon'}, {'item': 'Cilantro', 'quantity': '1/4 cup'}, {'item': 'Ginger-garlic paste', 'quantity': '1/2 teaspoon'}, {'item': 'Turmeric powder', 'quantity': '1/4 teaspoon'}, {'item': 'Black pepper', 'quantity': '1/4 teaspoon'}, {'item': 'Red chili powder', 'quantity': '1/2 teaspoon'}, {'item': 'Garam masala', 'quantity': '1/2 teaspoon'}, {'item': 'Rice', 'quantity': '2 cups'}]\n"
     ]
    }
   ],
   "source": [
    "raw_json = clean_json_output(response.text)\n",
    "# print(raw_json)\n",
    "# print(type(raw_json))\n",
    "try:\n",
    "    validated_response = RecipeResponse.model_validate(raw_json)\n",
    "    x = validated_response.model_dump()\n",
    "    print(x['content'])\n",
    "    print(x['items'])\n",
    "except Exception as e:\n",
    "    print(f\"Error in JSON response: {e}\")"
   ]
  },
  {
   "cell_type": "code",
   "execution_count": null,
   "metadata": {},
   "outputs": [],
   "source": []
  }
 ],
 "metadata": {
  "kernelspec": {
   "display_name": "Python 3",
   "language": "python",
   "name": "python3"
  },
  "language_info": {
   "codemirror_mode": {
    "name": "ipython",
    "version": 3
   },
   "file_extension": ".py",
   "mimetype": "text/x-python",
   "name": "python",
   "nbconvert_exporter": "python",
   "pygments_lexer": "ipython3",
   "version": "3.10.0"
  }
 },
 "nbformat": 4,
 "nbformat_minor": 2
}
