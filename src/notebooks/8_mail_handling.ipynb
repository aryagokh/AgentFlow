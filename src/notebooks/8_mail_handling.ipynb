{
 "cells": [
  {
   "cell_type": "code",
   "execution_count": 37,
   "metadata": {},
   "outputs": [
    {
     "data": {
      "text/plain": [
       "True"
      ]
     },
     "execution_count": 37,
     "metadata": {},
     "output_type": "execute_result"
    }
   ],
   "source": [
    "import smtplib\n",
    "from email.mime.text import MIMEText\n",
    "import os\n",
    "import google.genai as genai\n",
    "from dotenv import load_dotenv\n",
    "import json\n",
    "load_dotenv()"
   ]
  },
  {
   "cell_type": "code",
   "execution_count": 4,
   "metadata": {},
   "outputs": [],
   "source": [
    "sender_email = os.getenv('GOOGLE_MAIL_SENDER')\n",
    "receiver_email = \"arya.gokhale1@gmail.com\"\n",
    "password = os.getenv('GOOGLE_APP_PASSWORD')"
   ]
  },
  {
   "cell_type": "code",
   "execution_count": null,
   "metadata": {},
   "outputs": [],
   "source": [
    "msg = MIMEText(\"This is a test email from Gmail SMTP.\")\n",
    "msg[\"Subject\"] = \"Hello from Gmail!\"\n",
    "msg[\"From\"] = sender_email\n",
    "msg[\"To\"] = receiver_email"
   ]
  },
  {
   "cell_type": "code",
   "execution_count": 6,
   "metadata": {},
   "outputs": [
    {
     "name": "stdout",
     "output_type": "stream",
     "text": [
      "Email sent!\n"
     ]
    }
   ],
   "source": [
    "with smtplib.SMTP_SSL(\"smtp.gmail.com\", 465) as server:\n",
    "    server.login(sender_email, password)\n",
    "    server.sendmail(sender_email, receiver_email, msg.as_string())\n",
    "\n",
    "print(\"Email sent!\")"
   ]
  },
  {
   "cell_type": "code",
   "execution_count": 8,
   "metadata": {},
   "outputs": [],
   "source": [
    "def create_mail_prompt(mail_content, additional_info=None):\n",
    "    prompt = f'''\n",
    "    You are expert in writing emails.\n",
    "    You go thoroughly through the content provided.\n",
    "    The content is as follows:\n",
    "    {mail_content}\n",
    "\n",
    "    Think about a suitable subject for this email.\n",
    "    Now think about perfect body that covers all the mail content.\n",
    "    If mail content is any set of instructions/summary, provide the body in forms of bullets.\n",
    "    If not, write a simple body that covers all aspects of the mail content provided.\n",
    "\n",
    "    Always remember, no additional information from your side. No filler words and **highlighted headers**.\n",
    "    Just return json as follows:\n",
    "    subject:\n",
    "    body:\n",
    "    '''\n",
    "    if additional_info is not None:\n",
    "        prompt = prompt + '\\n' + f\"Here is some additional information about the content : {additional_info}\"\n",
    "\n",
    "    return prompt"
   ]
  },
  {
   "cell_type": "code",
   "execution_count": 32,
   "metadata": {},
   "outputs": [],
   "source": [
    "def create_mail(mail_content, additional_info=None):\n",
    "    client = genai.Client(api_key=os.getenv('GEMINI_API_KEY'))\n",
    "    prompt = create_mail_prompt(mail_content, additional_info)\n",
    "    response = client.models.generate_content(\n",
    "        model='gemini-2.0-flash-lite',\n",
    "        contents=prompt\n",
    "    )\n",
    "    subject = client.models.generate_content(\n",
    "        model='gemini-2.0-flash-lite',\n",
    "        contents=[f'Extract only the subject from the following. No additional information please and no fillers please: {response.candidates[0].content.parts[0].text}']\n",
    "    )\n",
    "    body = client.models.generate_content(\n",
    "        model='gemini-2.0-flash-lite',\n",
    "        contents=[f'Extract only the body from the following. Add salutation. No additional information please and no fillers please: {response.candidates[0].content.parts[0].text}']\n",
    "    )\n",
    "    return {\n",
    "        'subject': subject.candidates[0].content.parts[0].text,\n",
    "        'body':body.candidates[0].content.parts[0].text\n",
    "    }"
   ]
  },
  {
   "cell_type": "code",
   "execution_count": 33,
   "metadata": {},
   "outputs": [],
   "source": [
    "content = '''\n",
    "Scenario: Fraud Detection in Online Transactions\n",
    "\n",
    "👩‍💻 Alice (Data Scientist): Hey team, we've been tasked with building a fraud detection system for online transactions. Our dataset contains transaction details like amount, location, device type, and whether the transaction was fraudulent. Where should we start?\n",
    "\n",
    "👨‍💻 Bob (ML Engineer): First, we need to explore the dataset. Let’s check for missing values, outliers, and class imbalance. Fraudulent transactions are typically much fewer than non-fraudulent ones.\n",
    "\n",
    "👩‍💻 Alice: Good point. If the dataset is highly imbalanced, we might need techniques like oversampling (SMOTE) or undersampling to balance the classes.\n",
    "\n",
    "👨‍💻 Charlie (Business Analyst): Fraudulent transactions usually have patterns, like sudden high-value transactions from new devices or unusual locations. Feature engineering will be crucial.\n",
    "\n",
    "👩‍💻 Alice: Exactly! We can create new features, such as transaction frequency per user, time since last transaction, and location anomalies.\n",
    "\n",
    "👨‍💻 Bob: What model should we use? A simple Logistic Regression might work, but we could try Random Forest, XGBoost, or a Neural Network for better accuracy.\n",
    "\n",
    "👩‍💻 Alice: XGBoost is great for tabular data. But let’s first build a baseline model with Logistic Regression and then optimize with XGBoost or LightGBM.\n",
    "\n",
    "👨‍💻 Charlie: How do we evaluate the model? Accuracy might not be enough since fraud cases are rare.\n",
    "\n",
    "👩‍💻 Alice: Right! Precision, Recall, and the F1-score are more important. We don’t want too many false negatives (missed fraud cases).\n",
    "\n",
    "👨‍💻 Bob: Should we use a real-time detection system? If so, latency is a concern.\n",
    "\n",
    "👩‍💻 Alice: Yes, if we deploy it, the model should be lightweight and fast, maybe using TensorFlow Lite or ONNX.\n",
    "\n",
    "👨‍💻 Charlie: We should also ensure explainability. Banks and customers will want to know why a transaction was flagged as fraud.\n",
    "\n",
    "👩‍💻 Alice: True! We can use SHAP values or LIME to explain model decisions.\n",
    "\n",
    "👨‍💻 Bob: Let’s start with EDA, feature engineering, and a baseline model. Then, we can iterate and optimize.\n",
    "\n",
    "👩‍💻 Alice: Sounds like a plan! Let’s get to work. 🚀\n",
    "'''"
   ]
  },
  {
   "cell_type": "code",
   "execution_count": 34,
   "metadata": {},
   "outputs": [],
   "source": [
    "mail_content = create_mail(content)"
   ]
  },
  {
   "cell_type": "code",
   "execution_count": 35,
   "metadata": {},
   "outputs": [
    {
     "name": "stdout",
     "output_type": "stream",
     "text": [
      "Fraud Detection System\n",
      "\n",
      "**Team,**\n",
      "\n",
      "We're embarking on a project to build a fraud detection system for online transactions. Here’s a summary of our initial plan:\n",
      "\n",
      "*   **Data Exploration:**\n",
      "    *   Identify missing values, outliers, and class imbalance.\n",
      "    *   Address class imbalance using techniques like oversampling (SMOTE) or undersampling.\n",
      "*   **Feature Engineering:**\n",
      "    *   Create new features based on patterns in fraudulent transactions.\n",
      "    *   Examples: transaction frequency, time since last transaction, location anomalies.\n",
      "*   **Model Selection:**\n",
      "    *   Start with a baseline Logistic Regression model.\n",
      "    *   Iterate and optimize using models like XGBoost or LightGBM.\n",
      "*   **Model Evaluation:**\n",
      "    *   Focus on Precision, Recall, and F1-score for evaluation.\n",
      "    *   Minimize false negatives (missed fraud cases).\n",
      "*   **Deployment Considerations:**\n",
      "    *   If real-time, prioritize model speed and lightweight design (TensorFlow Lite, ONNX).\n",
      "*   **Explainability:**\n",
      "    *   Implement SHAP values or LIME for model decision explanation.\n",
      "\n",
      "**Next Steps:**\n",
      "\n",
      "We will begin with EDA, feature engineering, and building a baseline model. We'll then iterate and optimize our approach.\n",
      "\n",
      "Let's get started!\n",
      "\n"
     ]
    }
   ],
   "source": [
    "print(mail_content['subject'])\n",
    "print(mail_content['body'])"
   ]
  },
  {
   "cell_type": "code",
   "execution_count": null,
   "metadata": {},
   "outputs": [],
   "source": [
    "def send_mail(to, mail_content:json):\n",
    "    msg =  MIMEText(mail_content['body'])\n",
    "    subject = mail_content['subject']\n",
    "    msg[\"Subject\"] = subject\n",
    "    msg[\"From\"] = os.getenv('GOOGLE_MAIL_SENDER')\n",
    "    msg[\"To\"] = to\n",
    "    try:\n",
    "        with smtplib.SMTP_SSL(\"smtp.gmail.com\", 465) as server:\n",
    "            server.login(sender_email, password)\n",
    "            server.sendmail(sender_email, receiver_email, msg.as_string())\n",
    "            print(\"Email sent successfully!\")\n",
    "    except Exception as e:\n",
    "        print(f\"Coudn't send email : {e}\")\n",
    "        return -1\n",
    "    return 0"
   ]
  },
  {
   "cell_type": "code",
   "execution_count": 43,
   "metadata": {},
   "outputs": [
    {
     "name": "stdout",
     "output_type": "stream",
     "text": [
      "Email sent successfully!\n"
     ]
    },
    {
     "data": {
      "text/plain": [
       "0"
      ]
     },
     "execution_count": 43,
     "metadata": {},
     "output_type": "execute_result"
    }
   ],
   "source": [
    "send_mail(to='arya.gokhale1@gmail.com', mail_content=mail_content)"
   ]
  },
  {
   "cell_type": "code",
   "execution_count": null,
   "metadata": {},
   "outputs": [],
   "source": [
    "# Mixing up!\n",
    "def handle_mail(mail_content, to, additional_info=None):\n",
    "    response_json = create_mail(mail_content, additional_info)\n",
    "    send_mail(to, response_json)\n",
    "    return 0"
   ]
  },
  {
   "cell_type": "code",
   "execution_count": 46,
   "metadata": {},
   "outputs": [
    {
     "name": "stdout",
     "output_type": "stream",
     "text": [
      "Email sent successfully!\n"
     ]
    }
   ],
   "source": [
    "handle_mail(mail_content=content, to='arya.gokhale1@gmail.com', additional_info=None)"
   ]
  }
 ],
 "metadata": {
  "kernelspec": {
   "display_name": "Python 3",
   "language": "python",
   "name": "python3"
  },
  "language_info": {
   "codemirror_mode": {
    "name": "ipython",
    "version": 3
   },
   "file_extension": ".py",
   "mimetype": "text/x-python",
   "name": "python",
   "nbconvert_exporter": "python",
   "pygments_lexer": "ipython3",
   "version": "3.10.0"
  }
 },
 "nbformat": 4,
 "nbformat_minor": 2
}
