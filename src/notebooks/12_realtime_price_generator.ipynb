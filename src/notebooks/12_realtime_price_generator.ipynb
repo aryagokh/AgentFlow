{
 "cells": [
  {
   "cell_type": "code",
   "execution_count": 3,
   "metadata": {},
   "outputs": [
    {
     "data": {
      "text/plain": [
       "True"
      ]
     },
     "execution_count": 3,
     "metadata": {},
     "output_type": "execute_result"
    }
   ],
   "source": [
    "import google.genai as genai \n",
    "from google.genai.types import Tool, GoogleSearch, GenerateContentConfig\n",
    "from dotenv import load_dotenv\n",
    "import os\n",
    "load_dotenv()"
   ]
  },
  {
   "cell_type": "code",
   "execution_count": 13,
   "metadata": {},
   "outputs": [],
   "source": [
    "def create_price_generation_prompt(item, additional_info=None, website=None):\n",
    "    prompt = f'''\n",
    "    You are an expert in scraping the internet and providing **real time retail prices**.\n",
    "    Everytime you get request for any item's price, you use google search tool provided and return the price of the item.\n",
    "\n",
    "    Please don't use any filler words. Also, no **highlighted headings and texts**.\n",
    "    Return strictly only\n",
    "    ```json\n",
    "    {{\n",
    "    food_item_1 : price,\n",
    "    ...\n",
    "    }}```\n",
    "\n",
    "    Here is the item:\n",
    "    {item}\n",
    "    '''\n",
    "    if website is not None:\n",
    "        prompt = prompt + f'''\n",
    "        Try to search the required rel time information here:\n",
    "        {website}    \n",
    "        '''\n",
    "    if additional_info is not None:\n",
    "        prompt = prompt + f'''\n",
    "        Here is some additional things to consider:\n",
    "        {additional_info}\n",
    "        '''\n",
    "\n",
    "    return prompt"
   ]
  },
  {
   "cell_type": "code",
   "execution_count": 14,
   "metadata": {},
   "outputs": [],
   "source": [
    "client = genai.Client(api_key=os.getenv('GEMINI_API_KEY'))\n",
    "\n",
    "google_search_tool = Tool(\n",
    "    google_search=GoogleSearch()\n",
    ")"
   ]
  },
  {
   "cell_type": "code",
   "execution_count": 21,
   "metadata": {},
   "outputs": [],
   "source": [
    "response = client.models.generate_content(\n",
    "    model='gemini-2.0-flash',\n",
    "    contents=create_price_generation_prompt('Onion', \n",
    "                                            additional_info='The information should be based on Mumbai.',\n",
    "                                            website='blinkit.com'),\n",
    "    config=GenerateContentConfig(\n",
    "        tools=[google_search_tool],\n",
    "        response_modalities=['TEXT']\n",
    "    )\n",
    ")"
   ]
  },
  {
   "cell_type": "code",
   "execution_count": 22,
   "metadata": {},
   "outputs": [
    {
     "name": "stdout",
     "output_type": "stream",
     "text": [
      "```json\n",
      "{\n",
      "Onion: \"₹40-₹46 per kg\"\n",
      "}\n",
      "```\n"
     ]
    }
   ],
   "source": [
    "for each in response.candidates[0].content.parts:\n",
    "    print(each.text)"
   ]
  },
  {
   "cell_type": "code",
   "execution_count": null,
   "metadata": {},
   "outputs": [],
   "source": [
    "def generate_price(item, addtional_info=None, website=None):\n",
    "    client = genai.Client(api_key=os.getenv('GEMINI_API_KEY'))\n",
    "    google_search_tool = Tool(\n",
    "        google_search=GoogleSearch()\n",
    "    )\n",
    "    response = client.models.generate_content(\n",
    "    model='gemini-2.0-flash',\n",
    "    contents=create_price_generation_prompt(item, \n",
    "                                            additional_info=addtional_info,\n",
    "                                            website=website),\n",
    "    config=GenerateContentConfig(\n",
    "        tools=[google_search_tool],\n",
    "        response_modalities=['TEXT']\n",
    "    )\n",
    "    )\n",
    "    # print(response)\n",
    "    return response.candidates[0].content.parts[0].text"
   ]
  },
  {
   "cell_type": "code",
   "execution_count": 32,
   "metadata": {},
   "outputs": [
    {
     "name": "stdout",
     "output_type": "stream",
     "text": [
      "candidates=[Candidate(content=Content(parts=[Part(video_metadata=None, thought=None, code_execution_result=None, executable_code=None, file_data=None, function_call=None, function_response=None, inline_data=None, text='```json\\n{\\n\"Chicken breast (250g)\": \"₹159\",\\n\"Onion (100g)\": \"₹4.2\",\\n\"Eggs (6)\": \"₹47 - ₹55\",\\n\"Green Chillies (50g)\": \"₹8 - ₹9.5\"\\n}\\n```')], role='model'), citation_metadata=None, finish_message=None, token_count=None, avg_logprobs=None, finish_reason=<FinishReason.STOP: 'STOP'>, grounding_metadata=GroundingMetadata(grounding_chunks=None, grounding_supports=None, retrieval_metadata=RetrievalMetadata(google_search_dynamic_retrieval_score=None), retrieval_queries=None, search_entry_point=SearchEntryPoint(rendered_content='<style>\\n.container {\\n  align-items: center;\\n  border-radius: 8px;\\n  display: flex;\\n  font-family: Google Sans, Roboto, sans-serif;\\n  font-size: 14px;\\n  line-height: 20px;\\n  padding: 8px 12px;\\n}\\n.chip {\\n  display: inline-block;\\n  border: solid 1px;\\n  border-radius: 16px;\\n  min-width: 14px;\\n  padding: 5px 16px;\\n  text-align: center;\\n  user-select: none;\\n  margin: 0 8px;\\n  -webkit-tap-highlight-color: transparent;\\n}\\n.carousel {\\n  overflow: auto;\\n  scrollbar-width: none;\\n  white-space: nowrap;\\n  margin-right: -12px;\\n}\\n.headline {\\n  display: flex;\\n  margin-right: 4px;\\n}\\n.gradient-container {\\n  position: relative;\\n}\\n.gradient {\\n  position: absolute;\\n  transform: translate(3px, -9px);\\n  height: 36px;\\n  width: 9px;\\n}\\n@media (prefers-color-scheme: light) {\\n  .container {\\n    background-color: #fafafa;\\n    box-shadow: 0 0 0 1px #0000000f;\\n  }\\n  .headline-label {\\n    color: #1f1f1f;\\n  }\\n  .chip {\\n    background-color: #ffffff;\\n    border-color: #d2d2d2;\\n    color: #5e5e5e;\\n    text-decoration: none;\\n  }\\n  .chip:hover {\\n    background-color: #f2f2f2;\\n  }\\n  .chip:focus {\\n    background-color: #f2f2f2;\\n  }\\n  .chip:active {\\n    background-color: #d8d8d8;\\n    border-color: #b6b6b6;\\n  }\\n  .logo-dark {\\n    display: none;\\n  }\\n  .gradient {\\n    background: linear-gradient(90deg, #fafafa 15%, #fafafa00 100%);\\n  }\\n}\\n@media (prefers-color-scheme: dark) {\\n  .container {\\n    background-color: #1f1f1f;\\n    box-shadow: 0 0 0 1px #ffffff26;\\n  }\\n  .headline-label {\\n    color: #fff;\\n  }\\n  .chip {\\n    background-color: #2c2c2c;\\n    border-color: #3c4043;\\n    color: #fff;\\n    text-decoration: none;\\n  }\\n  .chip:hover {\\n    background-color: #353536;\\n  }\\n  .chip:focus {\\n    background-color: #353536;\\n  }\\n  .chip:active {\\n    background-color: #464849;\\n    border-color: #53575b;\\n  }\\n  .logo-light {\\n    display: none;\\n  }\\n  .gradient {\\n    background: linear-gradient(90deg, #1f1f1f 15%, #1f1f1f00 100%);\\n  }\\n}\\n</style>\\n<div class=\"container\">\\n  <div class=\"headline\">\\n    <svg class=\"logo-light\" width=\"18\" height=\"18\" viewBox=\"9 9 35 35\" fill=\"none\" xmlns=\"http://www.w3.org/2000/svg\">\\n      <path fill-rule=\"evenodd\" clip-rule=\"evenodd\" d=\"M42.8622 27.0064C42.8622 25.7839 42.7525 24.6084 42.5487 23.4799H26.3109V30.1568H35.5897C35.1821 32.3041 33.9596 34.1222 32.1258 35.3448V39.6864H37.7213C40.9814 36.677 42.8622 32.2571 42.8622 27.0064V27.0064Z\" fill=\"#4285F4\"/>\\n      <path fill-rule=\"evenodd\" clip-rule=\"evenodd\" d=\"M26.3109 43.8555C30.9659 43.8555 34.8687 42.3195 37.7213 39.6863L32.1258 35.3447C30.5898 36.3792 28.6306 37.0061 26.3109 37.0061C21.8282 37.0061 18.0195 33.9811 16.6559 29.906H10.9194V34.3573C13.7563 39.9841 19.5712 43.8555 26.3109 43.8555V43.8555Z\" fill=\"#34A853\"/>\\n      <path fill-rule=\"evenodd\" clip-rule=\"evenodd\" d=\"M16.6559 29.8904C16.3111 28.8559 16.1074 27.7588 16.1074 26.6146C16.1074 25.4704 16.3111 24.3733 16.6559 23.3388V18.8875H10.9194C9.74388 21.2072 9.06992 23.8247 9.06992 26.6146C9.06992 29.4045 9.74388 32.022 10.9194 34.3417L15.3864 30.8621L16.6559 29.8904V29.8904Z\" fill=\"#FBBC05\"/>\\n      <path fill-rule=\"evenodd\" clip-rule=\"evenodd\" d=\"M26.3109 16.2386C28.85 16.2386 31.107 17.1164 32.9095 18.8091L37.8466 13.8719C34.853 11.082 30.9659 9.3736 26.3109 9.3736C19.5712 9.3736 13.7563 13.245 10.9194 18.8875L16.6559 23.3388C18.0195 19.2636 21.8282 16.2386 26.3109 16.2386V16.2386Z\" fill=\"#EA4335\"/>\\n    </svg>\\n    <svg class=\"logo-dark\" width=\"18\" height=\"18\" viewBox=\"0 0 48 48\" xmlns=\"http://www.w3.org/2000/svg\">\\n      <circle cx=\"24\" cy=\"23\" fill=\"#FFF\" r=\"22\"/>\\n      <path d=\"M33.76 34.26c2.75-2.56 4.49-6.37 4.49-11.26 0-.89-.08-1.84-.29-3H24.01v5.99h8.03c-.4 2.02-1.5 3.56-3.07 4.56v.75l3.91 2.97h.88z\" fill=\"#4285F4\"/>\\n      <path d=\"M15.58 25.77A8.845 8.845 0 0 0 24 31.86c1.92 0 3.62-.46 4.97-1.31l4.79 3.71C31.14 36.7 27.65 38 24 38c-5.93 0-11.01-3.4-13.45-8.36l.17-1.01 4.06-2.85h.8z\" fill=\"#34A853\"/>\\n      <path d=\"M15.59 20.21a8.864 8.864 0 0 0 0 5.58l-5.03 3.86c-.98-2-1.53-4.25-1.53-6.64 0-2.39.55-4.64 1.53-6.64l1-.22 3.81 2.98.22 1.08z\" fill=\"#FBBC05\"/>\\n      <path d=\"M24 14.14c2.11 0 4.02.75 5.52 1.98l4.36-4.36C31.22 9.43 27.81 8 24 8c-5.93 0-11.01 3.4-13.45 8.36l5.03 3.85A8.86 8.86 0 0 1 24 14.14z\" fill=\"#EA4335\"/>\\n    </svg>\\n    <div class=\"gradient-container\"><div class=\"gradient\"></div></div>\\n  </div>\\n  <div class=\"carousel\">\\n    <a class=\"chip\" href=\"https://vertexaisearch.cloud.google.com/grounding-api-redirect/AQXblrzjlEyBhNXyuAKYh6B1K9_hRF9sEwC5XdVIFEWoOi4CqWM_czKV-fBfFcYCfBlDC2TdzhZ46ShoVepu9g53oY-d9SnUpTXlD-C7Z7qsfxrn81_yrDSgMHhXTiOqBi_ZJsUAEJuFQ1SVrgnTsMTe8oQsIIt9bDjmehR3Dejfu7o8iP9L1DYMmqC4ntt4UfLDMbQ0ikwmSxzD457D-PsSfeX9\">eggs price Mumbai blinkit.com</a>\\n    <a class=\"chip\" href=\"https://vertexaisearch.cloud.google.com/grounding-api-redirect/AQXblrxMmltUPEpN40nORm8YWlZbceYvGJYpTZe5xvLMafu5IaW_WHeUvMSexCTeYlhg5oPF8QDRMw0v-ouzEVvclqvGfAQb4dUAJsULlI3Dl8DK7YfbFHv7tvWeRrg4JN9X-w2M9WiSx5ENCR1JXF43LCJcHzqqvQoCArs0AkaCSQ_KNfxNoRR0qflHUkZ0fwI7mfB2EajuH1cDB1yFL42EvofFQlLxw4-_gWctmjA=\">chicken breast price Mumbai liscious.com</a>\\n    <a class=\"chip\" href=\"https://vertexaisearch.cloud.google.com/grounding-api-redirect/AQXblrw1emurpvUNtLTCo_ajq0lNsqPJ2s2vKJ5pg5BCjftH7I_aqT_l9Itd-CvRVFSPE8Bsny5xKoWi3E27mvexOvgasUT2B1TGbHmSKFyXXKKCFdKlBBdBlbEyYjJ0s4mquxPJxED8W5s49WnaCweF0W_VZKDeRN294Q5nL8ny_EtnAr7kA0XIOsIWQb8hYlWLLIgAw7CbTh7cLlXIDwaeUjjHWA==\">onion price Mumbai blinkit.com</a>\\n    <a class=\"chip\" href=\"https://vertexaisearch.cloud.google.com/grounding-api-redirect/AQXblryZk4CZI1EDjX5YcWtzuHLXZ-BkNJ8VIrO1CThpKVFi8sSA5ug_QqzLWRLn4Ewr6McW7WUfUMieHlORmiwlGwOFfr-xXH7bNkwzycdPEwPdJSPIGStbTnc3M6Um6NQNUCv2xrr0JFTCbTK6PpB9Rcpz-UfV8iiHWYVWo4PsS_AqFaHbg5gCT1a9Wxp_vrQxzFKjfK5h7YvsKOEq2oE72zLjxR-A_4TsIaCLRw==\">green chillies price Mumbai blinkit.com</a>\\n  </div>\\n</div>\\n', sdk_blob=None), web_search_queries=['chicken breast price Mumbai liscious.com', 'onion price Mumbai blinkit.com', 'eggs price Mumbai blinkit.com', 'green chillies price Mumbai blinkit.com']), index=None, logprobs_result=None, safety_ratings=None)] create_time=None response_id=None model_version='gemini-2.0-flash' prompt_feedback=None usage_metadata=GenerateContentResponseUsageMetadata(cached_content_token_count=None, candidates_token_count=73, prompt_token_count=189, total_token_count=262) automatic_function_calling_history=[] parsed=None\n",
      "```json\n",
      "{\n",
      "\"Chicken breast (250g)\": \"₹159\",\n",
      "\"Onion (100g)\": \"₹4.2\",\n",
      "\"Eggs (6)\": \"₹47 - ₹55\",\n",
      "\"Green Chillies (50g)\": \"₹8 - ₹9.5\"\n",
      "}\n",
      "```\n"
     ]
    }
   ],
   "source": [
    "response = generate_price(\n",
    "        item=['Chicken breast (250g)', 'Onion (100g)', 'Eggs (6)', 'Green Chillies (50g)'],\n",
    "        addtional_info='The information should be based on Mumbai.',\n",
    "        website=['liscious.com', 'blinkit.com']\n",
    "    )\n",
    "\n",
    "print(response)"
   ]
  }
 ],
 "metadata": {
  "kernelspec": {
   "display_name": "Python 3",
   "language": "python",
   "name": "python3"
  },
  "language_info": {
   "codemirror_mode": {
    "name": "ipython",
    "version": 3
   },
   "file_extension": ".py",
   "mimetype": "text/x-python",
   "name": "python",
   "nbconvert_exporter": "python",
   "pygments_lexer": "ipython3",
   "version": "3.10.0"
  }
 },
 "nbformat": 4,
 "nbformat_minor": 2
}
