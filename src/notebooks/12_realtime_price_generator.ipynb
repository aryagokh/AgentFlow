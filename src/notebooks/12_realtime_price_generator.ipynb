{
 "cells": [
  {
   "cell_type": "code",
   "execution_count": 2,
   "metadata": {},
   "outputs": [
    {
     "data": {
      "text/plain": [
       "True"
      ]
     },
     "execution_count": 2,
     "metadata": {},
     "output_type": "execute_result"
    }
   ],
   "source": [
    "import google.genai as genai \n",
    "from google.genai.types import Tool, GoogleSearch, GenerateContentConfig\n",
    "from dotenv import load_dotenv\n",
    "import os\n",
    "load_dotenv()"
   ]
  },
  {
   "cell_type": "code",
   "execution_count": 3,
   "metadata": {},
   "outputs": [],
   "source": [
    "def create_price_generation_prompt(item, additional_info=None, website=None):\n",
    "    prompt = f'''\n",
    "    You are an expert in scraping the internet and providing **real time retail prices**.\n",
    "    Everytime you get request for any item's price, you use google search tool provided and return the price of the item.\n",
    "\n",
    "    Please don't use any filler words. Also, no **highlighted headings and texts**.\n",
    "    Return strictly only\n",
    "    ```json\n",
    "    {{\n",
    "    food_item_1 : price,\n",
    "    ...\n",
    "    }}```\n",
    "\n",
    "    Here is the item:\n",
    "    {item}\n",
    "    '''\n",
    "    if website is not None:\n",
    "        prompt = prompt + f'''\n",
    "        Try to search the required rel time information here:\n",
    "        {website}    \n",
    "        '''\n",
    "    if additional_info is not None:\n",
    "        prompt = prompt + f'''\n",
    "        Here is some additional things to consider:\n",
    "        {additional_info}\n",
    "        '''\n",
    "\n",
    "    return prompt"
   ]
  },
  {
   "cell_type": "code",
   "execution_count": 4,
   "metadata": {},
   "outputs": [],
   "source": [
    "client = genai.Client(api_key=os.getenv('GEMINI_API_KEY'))\n",
    "\n",
    "google_search_tool = Tool(\n",
    "    google_search=GoogleSearch()\n",
    ")"
   ]
  },
  {
   "cell_type": "code",
   "execution_count": 5,
   "metadata": {},
   "outputs": [],
   "source": [
    "response = client.models.generate_content(\n",
    "    model='gemini-2.0-flash',\n",
    "    contents=create_price_generation_prompt('Onion', \n",
    "                                            additional_info='The information should be based on Mumbai.',\n",
    "                                            website='blinkit.com'),\n",
    "    config=GenerateContentConfig(\n",
    "        tools=[google_search_tool],\n",
    "        response_modalities=['TEXT']\n",
    "    )\n",
    ")"
   ]
  },
  {
   "cell_type": "code",
   "execution_count": 6,
   "metadata": {},
   "outputs": [
    {
     "name": "stdout",
     "output_type": "stream",
     "text": [
      "```json\n",
      "{\n",
      "\"Onion (Pyaz)\": \"₹45 per (0.95-1.05) kg\",\n",
      "\"Onion (Kanda)\": \"₹40 per (0.95-1.05) kg\"\n",
      "}\n",
      "```\n"
     ]
    }
   ],
   "source": [
    "for each in response.candidates[0].content.parts:\n",
    "    print(each.text)"
   ]
  },
  {
   "cell_type": "code",
   "execution_count": 7,
   "metadata": {},
   "outputs": [],
   "source": [
    "def generate_price(item, addtional_info=None, website=None):\n",
    "    client = genai.Client(api_key=os.getenv('GEMINI_API_KEY'))\n",
    "    google_search_tool = Tool(\n",
    "        google_search=GoogleSearch()\n",
    "    )\n",
    "    response = client.models.generate_content(\n",
    "    model='gemini-2.0-flash',\n",
    "    contents=create_price_generation_prompt(item, \n",
    "                                            additional_info=addtional_info,\n",
    "                                            website=website),\n",
    "    config=GenerateContentConfig(\n",
    "        tools=[google_search_tool],\n",
    "        response_modalities=['TEXT']\n",
    "    )\n",
    "    )\n",
    "    # print(response)\n",
    "    return response.candidates[0].content.parts[0].text"
   ]
  },
  {
   "cell_type": "code",
   "execution_count": 8,
   "metadata": {},
   "outputs": [
    {
     "name": "stdout",
     "output_type": "stream",
     "text": [
      "```json\n",
      "{\n",
      "\"Chicken breast (250g)\": \"₹159\",\n",
      "\"Onion (100g)\": \"₹4.2\",\n",
      "\"Eggs (6)\": \"₹47 - ₹55\",\n",
      "\"Green Chillies (50g)\": \"₹9 - ₹10\"\n",
      "}\n",
      "```\n"
     ]
    }
   ],
   "source": [
    "response = generate_price(\n",
    "        item=['Chicken breast (250g)', 'Onion (100g)', 'Eggs (6)', 'Green Chillies (50g)'],\n",
    "        addtional_info='The information should be based on Mumbai.',\n",
    "        website=['liscious.com', 'blinkit.com']\n",
    "    )\n",
    "\n",
    "print(response)"
   ]
  },
  {
   "cell_type": "code",
   "execution_count": null,
   "metadata": {},
   "outputs": [
    {
     "name": "stdout",
     "output_type": "stream",
     "text": [
      "\n",
      "{\n",
      "\"Chicken breast (250g)\": \"₹159\",\n",
      "\"Onion (100g)\": \"₹4.2\",\n",
      "\"Eggs (6)\": \"₹47 - ₹55\",\n",
      "\"Green Chillies (50g)\": \"₹9 - ₹10\"\n",
      "}\n",
      "\n"
     ]
    }
   ],
   "source": [
    "print(response.strip(\"```json\"))"
   ]
  },
  {
   "cell_type": "code",
   "execution_count": 27,
   "metadata": {},
   "outputs": [],
   "source": [
    "import json\n",
    "parsed_json = json.loads(response.strip(\"```json\"))\n",
    "z = json.dumps(parsed_json, indent=4, ensure_ascii=False)\n",
    "# print(z)\n",
    "# print(type(z))"
   ]
  },
  {
   "cell_type": "code",
   "execution_count": 35,
   "metadata": {},
   "outputs": [
    {
     "name": "stdout",
     "output_type": "stream",
     "text": [
      "{'Chicken breast (250g)': '₹159', 'Onion (100g)': '₹4.2', 'Eggs (6)': '₹47 - ₹55', 'Green Chillies (50g)': '₹9 - ₹10'}\n"
     ]
    }
   ],
   "source": [
    "print(json.loads(z))"
   ]
  },
  {
   "cell_type": "code",
   "execution_count": 37,
   "metadata": {},
   "outputs": [
    {
     "data": {
      "text/plain": [
       "'₹4.2'"
      ]
     },
     "execution_count": 37,
     "metadata": {},
     "output_type": "execute_result"
    }
   ],
   "source": [
    "json.loads(z)['Onion (100g)']"
   ]
  },
  {
   "cell_type": "code",
   "execution_count": 40,
   "metadata": {},
   "outputs": [],
   "source": [
    "def parse_price_output(price_pseudo_json):\n",
    "    parsed_json = json.loads(price_pseudo_json.strip(\"```json\"))\n",
    "    parsed_response = json.dumps(parsed_json, indent=4, ensure_ascii=False)\n",
    "    parsed_list_response = json.loads(parsed_response)\n",
    "    return parsed_list_response"
   ]
  },
  {
   "cell_type": "code",
   "execution_count": 41,
   "metadata": {},
   "outputs": [
    {
     "data": {
      "text/plain": [
       "{'Chicken breast (250g)': '₹159',\n",
       " 'Onion (100g)': '₹4.2',\n",
       " 'Eggs (6)': '₹47 - ₹55',\n",
       " 'Green Chillies (50g)': '₹9 - ₹10'}"
      ]
     },
     "execution_count": 41,
     "metadata": {},
     "output_type": "execute_result"
    }
   ],
   "source": [
    "parse_price_output(response)"
   ]
  },
  {
   "cell_type": "code",
   "execution_count": null,
   "metadata": {},
   "outputs": [],
   "source": []
  }
 ],
 "metadata": {
  "kernelspec": {
   "display_name": "Python 3",
   "language": "python",
   "name": "python3"
  },
  "language_info": {
   "codemirror_mode": {
    "name": "ipython",
    "version": 3
   },
   "file_extension": ".py",
   "mimetype": "text/x-python",
   "name": "python",
   "nbconvert_exporter": "python",
   "pygments_lexer": "ipython3",
   "version": "3.10.0"
  }
 },
 "nbformat": 4,
 "nbformat_minor": 2
}
