{
 "cells": [
  {
   "cell_type": "code",
   "execution_count": 2,
   "metadata": {},
   "outputs": [
    {
     "data": {
      "text/plain": [
       "True"
      ]
     },
     "execution_count": 2,
     "metadata": {},
     "output_type": "execute_result"
    }
   ],
   "source": [
    "import os\n",
    "import google.genai as genai\n",
    "from dotenv import load_dotenv\n",
    "from google.genai.types import Tool, GenerateContentConfig, GoogleSearch\n",
    "\n",
    "load_dotenv()"
   ]
  },
  {
   "cell_type": "code",
   "execution_count": 3,
   "metadata": {},
   "outputs": [],
   "source": [
    "client = genai.Client(api_key=os.getenv('GEMINI_API_KEY'))"
   ]
  },
  {
   "cell_type": "code",
   "execution_count": 33,
   "metadata": {},
   "outputs": [],
   "source": [
    "def construct_watchdog_prompt(content, goal, additional_info=None):\n",
    "    prompt = f'''\n",
    "    You are an expert analyzer for competitor watchdog.\n",
    "    The output should not include filler texts and strictly no **headers like this**.\n",
    "    You can use Google Search tool provided to monitor recent competitor activities too.\n",
    "\n",
    "    The content is as follows:\n",
    "    {content}\n",
    "\n",
    "    The goal is as follows:\n",
    "    {goal}\n",
    "\n",
    "    Identify domain on your own and work based on it. Focus on competitors too which is our main goal.\n",
    "    Output in this manner each seprately:\n",
    "    - Who competitors are ?\n",
    "    ** What have competitors done/are doing which is different?\n",
    "    ** Why is that is good/bad approach?\n",
    "    Do not include filler words and stricly output only what is asked. No **headers** please.\n",
    "    '''\n",
    "    \n",
    "    if additional_info is not None:\n",
    "        prompt = prompt + '\\n' + f'''\n",
    "        Keep in mind about also the additional information which is provided here as follows:\n",
    "        {additional_info}.\n",
    "        '''\n",
    "    return prompt"
   ]
  },
  {
   "cell_type": "code",
   "execution_count": 34,
   "metadata": {},
   "outputs": [
    {
     "name": "stdout",
     "output_type": "stream",
     "text": [
      "\n",
      "    You are an expert analyzer for competitor watchdog.\n",
      "    The output should not include filler texts and strictly no **headers like this**.\n",
      "    You can use Google Search tool provided to monitor recent competitor activities too.\n",
      "\n",
      "    The content is as follows:\n",
      "    AIML\n",
      "\n",
      "    The goal is as follows:\n",
      "    Hellow\n",
      "\n",
      "    Identify domain on your own and work based on it. Focus on competitors too which is our main goal.\n",
      "    Output in this manner each seprately:\n",
      "    - Who competitors are ?\n",
      "    ** What have competitors done/are doing which is different?\n",
      "    ** Why is that is good/bad approach?\n",
      "    Do not include filler words and stricly output only what is asked. No **headers** please.\n",
      "    \n"
     ]
    }
   ],
   "source": [
    "print(construct_watchdog_prompt('AIML', 'Hellow'))"
   ]
  },
  {
   "cell_type": "code",
   "execution_count": 35,
   "metadata": {},
   "outputs": [],
   "source": [
    "google_search_tool = Tool(google_search = GoogleSearch())"
   ]
  },
  {
   "cell_type": "code",
   "execution_count": 36,
   "metadata": {},
   "outputs": [],
   "source": [
    "def competitor_watchdog(content, goal, additional_info=None):\n",
    "    prompt = construct_watchdog_prompt(content, goal, additional_info)\n",
    "    client = genai.Client(api_key=os.getenv('GEMINI_API_KEY'))\n",
    "    response = client.models.generate_content(\n",
    "        model='gemini-2.0-flash',\n",
    "        contents=prompt,\n",
    "        config=GenerateContentConfig(\n",
    "            tools=[google_search_tool],\n",
    "            response_modalities=[\"TEXT\"]\n",
    "        )\n",
    "    )\n",
    "    return response.candidates[0].content.parts[0].text"
   ]
  },
  {
   "cell_type": "code",
   "execution_count": 37,
   "metadata": {},
   "outputs": [],
   "source": [
    "response = (competitor_watchdog(\n",
    "    content='AI ML',\n",
    "    goal='what are companies doing to analyze big data?',\n",
    "    additional_info='The company that works on this project is a startup'\n",
    "))"
   ]
  },
  {
   "cell_type": "code",
   "execution_count": 38,
   "metadata": {},
   "outputs": [
    {
     "name": "stdout",
     "output_type": "stream",
     "text": [
      "Based on the search results, here's an analysis of what companies are doing to analyze big data, focusing on competitors and their approaches:\n",
      "\n",
      "**Who are the competitors?**\n",
      "\n",
      "Many companies and startups are involved in big data analysis using AI and ML. Some key players include:\n",
      "\n",
      "*   **Databricks:** A unified data analytics platform known for its Apache Spark framework.\\[5]\n",
      "*   **Dataiku:** Develops Data Science Studio, a tool for data scientists and analysts to perform machine learning on various data types.\\[2]\n",
      "*   **Amazon SageMaker:** A comprehensive machine-learning platform. \\[19]\n",
      "*   **RapidMiner:** A data science platform for data mining, analysis, visualization, and predictive analytics. \\[22]\n",
      "*   **Tableau:** A data visualization and analytics platform that uses AI to automate tasks and provide insights in understandable language. \\[22, 23]\n",
      "*   **Microsoft Power BI:** A business analytics tool for data visualization, reporting, and analysis that integrates with other Microsoft tools. \\[22]\n",
      "*   **H2O.ai:** Focused on democratizing artificial intelligence. \\[19]\n",
      "*   **Other Startups:** Mezmo, Airbyte, Census, Sigma Computing, Conductor, Tamr, Chainalysis, Altinity.\\[1]\n",
      "*   **Aureus Analytics:** Offers an integrated big data analytics platform for enterprises.\\[7]\n",
      "*   **Mu Sigma:** Helps companies institutionalize data-driven decision-making.\\[7]\n",
      "*   **Fractal:** Provides AI and analytics solutions to various industries.\\[7]\n",
      "*   **ThirdEye Data:** Delivers cutting-edge solutions for data and AI transformation.\\[24]\n",
      "\n",
      "**What have competitors done/are doing differently?**\n",
      "\n",
      "Companies are employing various strategies to analyze big data:\n",
      "\n",
      "*   **AI-driven platforms:** Developing platforms that use AI and ML to automate data processing, provide predictive analytics, and offer customer insights. \\[2, 16]\n",
      "*   **Cloud-based solutions:** Utilizing cloud services to scale data processing and analysis.  \n",
      "*   **Real-time analytics:** Processing streaming data from IoT devices, social media, and transaction systems to provide instant predictions and insights. \\[9]\n",
      "*   **Data integration:** Consolidating data from various sources into data warehouses or data lakes. \\[5]\n",
      "*   **Predictive Modeling:** Using big data for machine learning, predictive modeling, and advanced analytics to solve business problems and make informed decisions. \\[8]\n",
      "*   **Competitive Intelligence:** Gathering and analyzing data about competitors, market trends, and industry dynamics to gain a strategic advantage. \\[6, 12]\n",
      "*   **Custom AI Solutions:** Providing customized AI solutions tailored to specific client requirements.\\[5]\n",
      "*   **Low-Code/No-Code Platforms:** Offering platforms with no-code capabilities to enable analysts to create custom models. \\[22]\n",
      "*   **Data Visualization:** Transforming complex data into actionable insights through interactive dashboards and reports. \\[24]\n",
      "*   **Dynamic Competitor Monitoring:** Continuously monitoring competitors' online activities, news, and social media using AI-powered tools. \\[21]\n",
      "\n",
      "**Why is that a good/bad approach?**\n",
      "\n",
      "*   **AI and ML Integration (Good):**\n",
      "    *   **Benefits:** Automates data analysis, enhances predictive accuracy, personalizes customer experiences, and improves decision-making. \\[10, 16]\n",
      "    *   **Caveats:** Requires expertise in AI and ML, potential for bias in algorithms, and the need for continuous model training and refinement.  \n",
      "*   **Cloud-Based Solutions (Good):**\n",
      "    *   **Benefits:** Scalability, cost-efficiency, and accessibility. \\[2]\n",
      "    *   **Caveats:** Data security concerns, dependency on internet connectivity, and potential vendor lock-in.  \n",
      "*   **Real-Time Analytics (Good):**\n",
      "    *   **Benefits:** Timely decision-making, quick response to market changes, and improved operational efficiency. \\[9]\n",
      "    *   **Caveats:** Requires robust data infrastructure, high processing power, and sophisticated algorithms.  \n",
      "*   **Data Integration (Good):**\n",
      "    *   **Benefits:** Provides a holistic view of data, improves data quality, and enables comprehensive analysis. \\[5]\n",
      "    *   **Caveats:** Complex data pipelines, potential for data silos, and challenges in data governance and security.  \n",
      "*   **Predictive Modeling (Good):**\n",
      "    *   **Benefits:** Enables businesses to anticipate future trends, optimize processes, and make data-driven decisions. \\[8, 10]\n",
      "    *   **Caveats:** Requires large datasets, skilled data scientists, and careful model validation.  \n",
      "*   **Competitive Intelligence (Good):**\n",
      "    *   **Benefits:** Helps businesses understand their competitive landscape, identify opportunities, and make informed strategic decisions. \\[6, 13]\n",
      "    *   **Caveats:** Requires continuous monitoring, ethical considerations, and the ability to interpret and act on insights.  \n",
      "*   **Custom AI Solutions (Good):**\n",
      "    *   **Benefits:** Tailored to specific business needs, addresses unique challenges, and provides a competitive advantage. \\[5]\n",
      "    *   **Caveats:** Can be expensive, requires close collaboration with clients, and may be difficult to scale.  \n",
      "*   **Low-Code/No-Code Platforms (Good):**\n",
      "    *   **Benefits:** Democratizes data science, enables citizen data scientists, and accelerates model development. \\[22]\n",
      "    *   **Caveats:** May lack flexibility for complex tasks, potential for shadow IT, and the need for governance and control.  \n",
      "*   **Data Visualization (Good):**\n",
      "    *   **Benefits:** Transforms complex data into actionable insights, improves communication, and facilitates data-driven decision-making. \\[24]\n",
      "    *   **Caveats:** Requires careful design, potential for misleading visualizations, and the need for data literacy.\n",
      "\n"
     ]
    }
   ],
   "source": [
    "print(response)"
   ]
  },
  {
   "cell_type": "code",
   "execution_count": null,
   "metadata": {},
   "outputs": [],
   "source": []
  }
 ],
 "metadata": {
  "kernelspec": {
   "display_name": "Python 3",
   "language": "python",
   "name": "python3"
  },
  "language_info": {
   "codemirror_mode": {
    "name": "ipython",
    "version": 3
   },
   "file_extension": ".py",
   "mimetype": "text/x-python",
   "name": "python",
   "nbconvert_exporter": "python",
   "pygments_lexer": "ipython3",
   "version": "3.10.0"
  }
 },
 "nbformat": 4,
 "nbformat_minor": 2
}
