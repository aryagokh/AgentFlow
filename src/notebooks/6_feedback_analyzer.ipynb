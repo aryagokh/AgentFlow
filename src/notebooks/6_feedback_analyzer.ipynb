{
 "cells": [
  {
   "cell_type": "code",
   "execution_count": 3,
   "metadata": {},
   "outputs": [
    {
     "data": {
      "text/plain": [
       "True"
      ]
     },
     "execution_count": 3,
     "metadata": {},
     "output_type": "execute_result"
    }
   ],
   "source": [
    "import pandas as pd\n",
    "import google.genai as genai\n",
    "from dotenv import load_dotenv\n",
    "import os\n",
    "\n",
    "load_dotenv()"
   ]
  },
  {
   "cell_type": "code",
   "execution_count": 2,
   "metadata": {},
   "outputs": [],
   "source": [
    "def file_to_text(file_path, review_column_name='reviews'):\n",
    "    if str(file_path).endswith('csv'):\n",
    "        data = pd.read_csv(file_path)\n",
    "    elif str(file_path).endswith('xlsx'):\n",
    "        data = pd.read_excel(file_path)\n",
    "    elif str(file_path).endswith('json'):\n",
    "        data = pd.read_json(file_path)\n",
    "    else:\n",
    "        print('Invalid file type. Please upload csv, excel or json files!!!')\n",
    "        return -1\n",
    "    collective_response = ''\n",
    "    for i in range(len(data)):\n",
    "        collective_response = collective_response + '\\n' + data[review_column_name][i]\n",
    "    return collective_response"
   ]
  },
  {
   "cell_type": "code",
   "execution_count": 4,
   "metadata": {},
   "outputs": [],
   "source": [
    "client = genai.Client(api_key=os.getenv('GEMINI_API_KEY'))"
   ]
  },
  {
   "cell_type": "code",
   "execution_count": 10,
   "metadata": {},
   "outputs": [],
   "source": [
    "def create_analysing_prompt(data, additional_info=None):\n",
    "    prompt = f'''\n",
    "    You are an expert in analyzing the reviews.\n",
    "    Given any set of reviews, you analyze them perfectly.\n",
    "    You list the issues listed inside the reviews in the form of bullet points.\n",
    "    If no issue is present, just tell 'No issues'\n",
    "    Do not add filler text. Just output the bullet points if issue is present.\n",
    "    And strictly do not add **headers like this**.\n",
    "\n",
    "    This is the data on which you have to perform analyzing process:\n",
    "    {data}\n",
    "    '''\n",
    "    if additional_info is not None:\n",
    "        prompt = prompt + '\\n' + f'Here is some additional information about the same : {additional_info}'\n",
    "\n",
    "    return prompt"
   ]
  },
  {
   "cell_type": "code",
   "execution_count": 13,
   "metadata": {},
   "outputs": [],
   "source": [
    "def analyze_feedback(file_path, review_column_name='reviews', additional_info=None):\n",
    "    collective_response = file_to_text(file_path)\n",
    "    client = genai.Client(api_key=os.getenv('GEMINI_API_KEY'))\n",
    "    response = client.models.generate_content(\n",
    "        model='gemini-2.0-flash-lite',\n",
    "        contents=create_analysing_prompt(collective_response)\n",
    "    )\n",
    "    return response.candidates[0].content.parts[0].text"
   ]
  },
  {
   "cell_type": "code",
   "execution_count": 14,
   "metadata": {},
   "outputs": [
    {
     "name": "stdout",
     "output_type": "stream",
     "text": [
      "*   Deployment process took longer than expected.\n",
      "*   Documentation provided for integration was incomplete.\n",
      "*   Pricing was on the higher side.\n",
      "*   Some model predictions were difficult to interpret.\n",
      "\n"
     ]
    }
   ],
   "source": [
    "print(analyze_feedback(\n",
    "    file_path='../../data/raw/documents/Issues_DS.xlsx'\n",
    "))"
   ]
  }
 ],
 "metadata": {
  "kernelspec": {
   "display_name": "Python 3",
   "language": "python",
   "name": "python3"
  },
  "language_info": {
   "codemirror_mode": {
    "name": "ipython",
    "version": 3
   },
   "file_extension": ".py",
   "mimetype": "text/x-python",
   "name": "python",
   "nbconvert_exporter": "python",
   "pygments_lexer": "ipython3",
   "version": "3.10.0"
  }
 },
 "nbformat": 4,
 "nbformat_minor": 2
}
