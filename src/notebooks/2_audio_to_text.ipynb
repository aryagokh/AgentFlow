{
 "cells": [
  {
   "cell_type": "code",
   "execution_count": null,
   "metadata": {},
   "outputs": [],
   "source": [
    "import google.genai as genai\n",
    "import os\n",
    "from dotenv import load_dotenv\n",
    "\n",
    "load_dotenv()"
   ]
  },
  {
   "cell_type": "code",
   "execution_count": 2,
   "metadata": {},
   "outputs": [],
   "source": [
    "client = genai.Client(api_key=os.getenv('GEMINI_API_KEY'))"
   ]
  },
  {
   "cell_type": "code",
   "execution_count": 3,
   "metadata": {},
   "outputs": [],
   "source": [
    "audio_file = '../../data/raw/videos/Short_Meet.mp3'"
   ]
  },
  {
   "cell_type": "code",
   "execution_count": 4,
   "metadata": {},
   "outputs": [],
   "source": [
    "myfile = client.files.upload(file=audio_file)"
   ]
  },
  {
   "cell_type": "code",
   "execution_count": 5,
   "metadata": {},
   "outputs": [],
   "source": [
    "response = client.models.generate_content(\n",
    "  model='gemini-2.0-flash',\n",
    "  contents=['Transcribe this audio clip', myfile]\n",
    ")"
   ]
  },
  {
   "cell_type": "code",
   "execution_count": 6,
   "metadata": {},
   "outputs": [
    {
     "name": "stdout",
     "output_type": "stream",
     "text": [
      "Or I can. All right, I think you had the next question. I will attempt to stitch these together, uh these two recordings. Where did you get to in the agenda? We're on number five. still talking through your last. Yeah. Cool. Um yeah, so I was just curious about the list. I would expect it to be filtered to issues, but I don't know. Um I can see Nick said it was discussed somewhere. Yeah, Donald made the same proposal. I think my concern with that is like we don't typically pre-filter lists, um, and I worry that it would be confusing to like why it would be there. We also know that some teams use that list as the incident/ issues like like to manage both of those things simultaneously, which would mean every single time they're like clearing a filter. Um, I I could see like, I mean I see the argument for it that if you create a bunch of tasks, like then you're going to have potentially a lot of uh noise in there, but uh we might kind of wait and see if we we get that feedback.\n",
      "Yeah, it raises a couple of other questions as well. Like should the badge with the count on it include all work items then or just issues or just issues and incidents or like what should that number be and how do people reason about it? What is it today? It's everything, right? Any anything that has uh anything that's within like an issue and has an issue type. Is that true? That's a good question. Yes, it is everything now. I mean, recently it was issue, incident and something, but yeah, I changed it recently to everything. But yeah. I mean that's kind of how we're treating it, right? Like it's we're we're calling I mean it goes back to this like broader confusion of issues meaning two things, but like we're basically treating it as issues the like super set of uh anything that could be an issue but not specifically the issue type issue. Um, which if you think of it like work items, we're basically calling this like all work items, which I think is fine. I think that makes sense for now. It's also how like Jira and stuff works. Um, you you have to kind of subfilter once you go in. So I I think that's all right, but we should definitely like keep looking at that and finding ways to make it better.\n",
      "Isn't that more confusing though? Like because issue is just a type of work item now, it's not.\n"
     ]
    }
   ],
   "source": [
    "print(response.text)"
   ]
  },
  {
   "cell_type": "code",
   "execution_count": null,
   "metadata": {},
   "outputs": [],
   "source": []
  }
 ],
 "metadata": {
  "kernelspec": {
   "display_name": "Python 3",
   "language": "python",
   "name": "python3"
  },
  "language_info": {
   "codemirror_mode": {
    "name": "ipython",
    "version": 3
   },
   "file_extension": ".py",
   "mimetype": "text/x-python",
   "name": "python",
   "nbconvert_exporter": "python",
   "pygments_lexer": "ipython3",
   "version": "3.10.0"
  }
 },
 "nbformat": 4,
 "nbformat_minor": 2
}
