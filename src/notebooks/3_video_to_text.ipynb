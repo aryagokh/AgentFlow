{
 "cells": [
  {
   "cell_type": "code",
   "execution_count": 1,
   "metadata": {},
   "outputs": [
    {
     "data": {
      "text/plain": [
       "True"
      ]
     },
     "execution_count": 1,
     "metadata": {},
     "output_type": "execute_result"
    }
   ],
   "source": [
    "import os\n",
    "from dotenv import load_dotenv\n",
    "import assemblyai as aai\n",
    "\n",
    "load_dotenv()"
   ]
  },
  {
   "cell_type": "code",
   "execution_count": 2,
   "metadata": {},
   "outputs": [],
   "source": [
    "aai.settings.api_key = os.getenv('ASSEMBLYAI_API_KEY')"
   ]
  },
  {
   "cell_type": "code",
   "execution_count": 3,
   "metadata": {},
   "outputs": [],
   "source": [
    "transcriber = aai.Transcriber()"
   ]
  },
  {
   "cell_type": "code",
   "execution_count": 8,
   "metadata": {},
   "outputs": [],
   "source": [
    "video_file = '../../data/raw/videos/Short_Meet.mp3'"
   ]
  },
  {
   "cell_type": "code",
   "execution_count": 9,
   "metadata": {},
   "outputs": [],
   "source": [
    "transcript = transcriber.transcribe(video_file)"
   ]
  },
  {
   "cell_type": "code",
   "execution_count": 12,
   "metadata": {},
   "outputs": [
    {
     "name": "stdout",
     "output_type": "stream",
     "text": [
      "Or I can. All right, I think you had the next question. I will attempt to stitch these together, these two recordings. Where did you get to in the agenda? Are we on number five? Still talking through your last. Yeah. Cool. Yeah. So I was just curious about the list. I would expect it to be filtered to issues, but I don't know. I can see. Nick said it was discussed somewhere. Yeah, Donald made the same proposal. I think my concern with that is like we don't typically pre filter lists and I swear that it would be confusing to like why it would be there. We also know that some teams use that list as the incident slash issues. Like, like to manage both of those things simultaneously, which would mean every single time they're like clearing a filter. I, I could see like, I mean I see the argument for it that if you create a bunch of tasks like then yours going to have potentially a lot of noise in there. But we might kind of wait and see if we, we get that feedback. Yeah. It raises a couple of other questions as well. Like should the badge with the count on it include all work items then? Or just issues or just issues and incidents or like what should that number be and how do people reason about it? What is it today? It's everything, right? Any. Anything that has anything that's within like an issue and has an issue type. Is that true? It's a good question. Yes, it is everything now. I mean, recently it was issue, incident and something. But yeah, I changed it recently to everything. But yeah, I mean that's kind of how we're treating it, right? Like it's, we're calling. I mean it goes back to this like broader confusion of issues, meaning two things. But like we're basically treating it as issues. The like superset of anything that could be an issue, but not specifically the issue type. Issue which if you think of it like work items. We're basically calling this like all work items, which I think is fine. I think that makes sense for now. It's also how like JIRA and stuff works. You have to kind of sub filter once you go in. So I think that's all right, but we should definitely keep looking at that and finding ways to make it better. Isn't that more confusing though? Like, because issue is just a type of work item, it's not.\n"
     ]
    }
   ],
   "source": [
    "print(transcript.text)"
   ]
  }
 ],
 "metadata": {
  "kernelspec": {
   "display_name": "Python 3",
   "language": "python",
   "name": "python3"
  },
  "language_info": {
   "codemirror_mode": {
    "name": "ipython",
    "version": 3
   },
   "file_extension": ".py",
   "mimetype": "text/x-python",
   "name": "python",
   "nbconvert_exporter": "python",
   "pygments_lexer": "ipython3",
   "version": "3.10.0"
  }
 },
 "nbformat": 4,
 "nbformat_minor": 2
}
