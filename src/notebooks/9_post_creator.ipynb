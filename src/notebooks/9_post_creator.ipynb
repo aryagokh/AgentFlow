{
 "cells": [
  {
   "cell_type": "code",
   "execution_count": 8,
   "metadata": {},
   "outputs": [
    {
     "data": {
      "text/plain": [
       "True"
      ]
     },
     "execution_count": 8,
     "metadata": {},
     "output_type": "execute_result"
    }
   ],
   "source": [
    "import google.genai as genai\n",
    "from openai import OpenAI\n",
    "import os\n",
    "from dotenv import load_dotenv\n",
    "from google.genai.types import GenerateContentConfig\n",
    "load_dotenv()"
   ]
  },
  {
   "cell_type": "code",
   "execution_count": 13,
   "metadata": {},
   "outputs": [],
   "source": [
    "def construct_post_generation_prompt(topic, platform, additional_info=None):\n",
    "    prompt = f'''\n",
    "    You are an expert in writing all kinds of social media posts.\n",
    "    This time you have to write for {platform} platform.\n",
    "    The topic of the post is {topic}.\n",
    "\n",
    "    Remember, there should be no filler words and sentences by your side.\n",
    "    Do not include headers and suggestions.\n",
    "    Just only do what is asked.\n",
    "    Directly start from the content instead of boilerplate text.\n",
    "    ''' \n",
    "    if additional_info is not None:\n",
    "        prompt = prompt + \"\\n\" + f\"Here is some additional details : {additional_info}.\"\n",
    "\n",
    "    return prompt"
   ]
  },
  {
   "cell_type": "code",
   "execution_count": 14,
   "metadata": {},
   "outputs": [],
   "source": [
    "def create_post(topic, platform, creativity_temperature=0.7, additional_info=None):\n",
    "    prompt = construct_post_generation_prompt(topic, platform, additional_info)\n",
    "    client = genai.Client(api_key=os.getenv('GEMINI_API_KEY'))\n",
    "    response = client.models.generate_content(\n",
    "        model='gemini-2.0-flash',\n",
    "        contents=prompt,\n",
    "        config = GenerateContentConfig(temperature=creativity_temperature)\n",
    "    )\n",
    "    return response.candidates[0].content.parts[0].text"
   ]
  },
  {
   "cell_type": "code",
   "execution_count": 17,
   "metadata": {},
   "outputs": [],
   "source": [
    "post = create_post(\n",
    "    topic='AI ML in Mechanical Engineering Industries',\n",
    "    platform='LinkedIn',\n",
    "    creativity_temperature=1.2,\n",
    "    additional_info='The post should be SEO Optimized, focusing mainly on 20-30 age group'\n",
    ")"
   ]
  },
  {
   "cell_type": "code",
   "execution_count": 18,
   "metadata": {},
   "outputs": [
    {
     "name": "stdout",
     "output_type": "stream",
     "text": [
      "**AI & ML: Level Up Your Mechanical Engineering Career! 🚀**\n",
      "\n",
      "Hey #MechanicalEngineers! 👋 Ready to future-proof your skills?\n",
      "\n",
      "AI and Machine Learning aren't just buzzwords anymore; they're revolutionizing manufacturing, design, and maintenance. Think:\n",
      "\n",
      "*   **Predictive Maintenance:** Imagine algorithms that foresee equipment failures *before* they happen, saving time and $$$ 💰.\n",
      "*   **Generative Design:** AI creating optimal designs we haven't even thought of yet – lighter, stronger, better! 🤯\n",
      "*   **Automated Quality Control:** Catching defects with superhuman accuracy, ensuring top-notch products. ✅\n",
      "\n",
      "**Why should YOU care?**\n",
      "\n",
      "Knowing AI/ML will make you a *highly* sought-after engineer. It's about:\n",
      "\n",
      "*   **Boosting Efficiency:** Streamlining processes, reducing waste. ♻️\n",
      "*   **Driving Innovation:** Creating cutting-edge solutions. ✨\n",
      "*   **Increasing Earning Potential:** Skills that are in demand pay BIG. 🤑\n",
      "\n",
      "**Get started now:**\n",
      "\n",
      "*   Explore online courses on platforms like Coursera or Udacity.\n",
      "*   Start small – look for AI/ML applications within your current projects.\n",
      "*   Join online communities and connect with experts!\n",
      "\n",
      "#AIinManufacturing #MachineLearning #MechanicalEngineering #FutureofWork #EngineeringJobs #TechSkills #Innovation #CareerDevelopment\n",
      "\n"
     ]
    }
   ],
   "source": [
    "print(post)"
   ]
  }
 ],
 "metadata": {
  "kernelspec": {
   "display_name": "Python 3",
   "language": "python",
   "name": "python3"
  },
  "language_info": {
   "codemirror_mode": {
    "name": "ipython",
    "version": 3
   },
   "file_extension": ".py",
   "mimetype": "text/x-python",
   "name": "python",
   "nbconvert_exporter": "python",
   "pygments_lexer": "ipython3",
   "version": "3.10.0"
  }
 },
 "nbformat": 4,
 "nbformat_minor": 2
}
