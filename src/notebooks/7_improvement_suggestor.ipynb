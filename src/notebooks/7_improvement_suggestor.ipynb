{
 "cells": [
  {
   "cell_type": "code",
   "execution_count": 1,
   "metadata": {},
   "outputs": [
    {
     "data": {
      "text/plain": [
       "True"
      ]
     },
     "execution_count": 1,
     "metadata": {},
     "output_type": "execute_result"
    }
   ],
   "source": [
    "import os\n",
    "from openai import OpenAI\n",
    "from dotenv import load_dotenv\n",
    "load_dotenv()"
   ]
  },
  {
   "cell_type": "code",
   "execution_count": 2,
   "metadata": {},
   "outputs": [],
   "source": [
    "client = OpenAI(\n",
    "    base_url=\"https://openrouter.ai/api/v1\",\n",
    "    api_key=os.getenv('OPENROUTER_API_KEY')\n",
    ")"
   ]
  },
  {
   "cell_type": "code",
   "execution_count": 3,
   "metadata": {},
   "outputs": [],
   "source": [
    "def create_improvement_suggestion_prompt(background, issues, additional_info=None, whom=None):\n",
    "    system_prompt = f'''\n",
    "    You are an expert in improvement suggestions of all the content.\n",
    "    You can use your available knowledge or search on internet, you decide.\n",
    "    Respond with strictly only resolvements of the issues.\n",
    "    No filler words and headers.\n",
    "    Format for all issues and resolution should be:\n",
    "    * Issue:\n",
    "    * Resolution:\n",
    "    '''\n",
    "    user_prompt = f'''\n",
    "    This is some background for your prerequisite knowledge:\n",
    "    {background}\n",
    "\n",
    "    These are the issues which are the input:\n",
    "    {issues}\n",
    "    '''\n",
    "    if additional_info is not None:\n",
    "        if whom=='system':\n",
    "            system_prompt = system_prompt + '\\n' + f'''{additional_info}'''\n",
    "        elif whom=='user':\n",
    "            user_prompt = user_prompt + '\\n' + f'''Also, consider this additional information \\n{additional_info} '''\n",
    "        else:\n",
    "            print('No additional info given to anyone. Stop if you believe its a mistake!!')\n",
    "    return system_prompt, user_prompt"
   ]
  },
  {
   "cell_type": "code",
   "execution_count": 4,
   "metadata": {},
   "outputs": [],
   "source": [
    "issues = f'''\n",
    "*   Deployment process took longer than expected.\n",
    "*   Documentation provided for integration was incomplete.\n",
    "*   Pricing was on the higher side.\n",
    "*   Some model predictions were difficult to interpret.\n",
    "'''\n",
    "\n",
    "background = 'AI ML Big Data Company'"
   ]
  },
  {
   "cell_type": "code",
   "execution_count": 5,
   "metadata": {},
   "outputs": [],
   "source": [
    "system_prompt, user_prompt = create_improvement_suggestion_prompt(background, issues)"
   ]
  },
  {
   "cell_type": "code",
   "execution_count": 9,
   "metadata": {},
   "outputs": [],
   "source": [
    "def suggest_improvements(system_prompt, user_prompt):\n",
    "    response = client.chat.completions.create(\n",
    "        model='deepseek/deepseek-r1-zero:free',\n",
    "        messages = [\n",
    "                {\"role\": \"system\", \"content\": system_prompt},\n",
    "                {\"role\": \"user\", \"content\": user_prompt},\n",
    "            ]\n",
    "    )\n",
    "    return response.choices[0].message.content"
   ]
  },
  {
   "cell_type": "code",
   "execution_count": 10,
   "metadata": {},
   "outputs": [
    {
     "name": "stdout",
     "output_type": "stream",
     "text": [
      "\\boxed{\n",
      "```md\n",
      "* **Issue:** Deployment process took longer than expected.\n",
      "  * **Resolution:**\n",
      "  Improve the deployment workflow by streamlining steps and automating repetitive tasks where possible. Ensure that the deployment documentation is thorough and includes step-by-step instructions for every stage of the deployment process. Additionally, offer a pre-deployment checklist and a \"Quick Deployment Guide\" as part of the documentation. Consider providing dedicated support for the deployment phase or a deployment \"hotline\" staffed by experienced technicians who can assist clients through real-time chat or phone support.\n",
      "\n",
      "* **Issue:** Documentation provided for integration was incomplete.\n",
      "  * **Resolution:**\n",
      "  Conduct a comprehensive review and update of all integration-related documentation. This should include including more detailed instructions, real-world examples, and troubleshooting tips. Provide sample code snippets and case studies for common use cases. Additionally, make sure that the documentation is organized in a user-friendly manner such as a well-structured online documentation portal that is easily navigable. Using a feedback mechanism where users can report issues or ambiguities in the documentation can also help ensure it stays up to date and complete.\n",
      "\n",
      "* **Issue:** Pricing was on the higher side.\n",
      "  * **Resolution:**\n",
      "  To make the offering more competitive, analyze the current pricing structure and compare it with similar products in the market. Consider offering a tiered pricing plan that caters to different customer segments such as small, medium, and large enterprises. Additionally, offer a \"freemium\" or trial version that allows potential customers to test some features before committing to a full purchase. Another option could be to provide bundled packages where customers pay for a suite of services that might make pricing more appealing. Another strategy could be offering discounts for long-term commitments or for referrals.\n",
      "\n",
      "* **Issue:** Some model predictions were difficult to interpret.\n",
      "  * **Resolution:**\n",
      "  Enhance the interpretability of AI model predictions by integrating explainable AI (XAI) techniques such as SHAP (SHapley Additive exPlanations) values, LIME (Local Interpretable Model-agnostic Explanations), or creating visualizations that highlight the most influential features contributing to a given prediction. Offering a user-friendly dashboard where users can easily see the reasoning behind model predictions can significantly enhance interpretability. Training programs or tutorials on how to interpret these predictions should also be part of the customer support.\n",
      "```\n",
      "}\n"
     ]
    }
   ],
   "source": [
    "print(suggest_improvements(system_prompt, user_prompt))"
   ]
  }
 ],
 "metadata": {
  "kernelspec": {
   "display_name": "Python 3",
   "language": "python",
   "name": "python3"
  },
  "language_info": {
   "codemirror_mode": {
    "name": "ipython",
    "version": 3
   },
   "file_extension": ".py",
   "mimetype": "text/x-python",
   "name": "python",
   "nbconvert_exporter": "python",
   "pygments_lexer": "ipython3",
   "version": "3.10.0"
  }
 },
 "nbformat": 4,
 "nbformat_minor": 2
}
